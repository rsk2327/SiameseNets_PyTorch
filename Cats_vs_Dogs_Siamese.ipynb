{
  "nbformat": 4,
  "nbformat_minor": 0,
  "metadata": {
    "colab": {
      "name": "Cats_vs_Dogs_Siamese.ipynb",
      "provenance": [],
      "toc_visible": true
    },
    "kernelspec": {
      "name": "python3",
      "display_name": "Python 3"
    },
    "accelerator": "GPU"
  },
  "cells": [
    {
      "cell_type": "markdown",
      "metadata": {
        "id": "wlcKoZ-NsCKE",
        "colab_type": "text"
      },
      "source": [
        "### Downloading Data"
      ]
    },
    {
      "cell_type": "code",
      "metadata": {
        "id": "pdvlLnrrsAr6",
        "colab_type": "code",
        "colab": {}
      },
      "source": [
        "!wget -O datafile.zip https://download.microsoft.com/download/3/E/1/3E1C3F21-ECDB-4869-8368-6DEBA77B919F/kagglecatsanddogs_3367a.zip\n",
        "!unzip datafile.zip "
      ],
      "execution_count": 0,
      "outputs": []
    },
    {
      "cell_type": "code",
      "metadata": {
        "id": "6MRn5FfA_0SY",
        "colab_type": "code",
        "colab": {}
      },
      "source": [
        "import PIL\n",
        "import pandas as pd\n",
        "import numpy as np\n",
        "import os \n",
        "from tqdm import tqdm\n",
        "import logging\n",
        "\n",
        "import matplotlib.image as mpimg\n",
        "import json\n",
        "\n",
        "from skimage.color import rgb2gray\n",
        "from sklearn.metrics import accuracy_score, confusion_matrix, roc_auc_score\n",
        "from sklearn.preprocessing import StandardScaler\n",
        "from sklearn.preprocessing import MinMaxScaler\n",
        "from sklearn.decomposition import PCA\n",
        "from sklearn.neighbors import KNeighborsClassifier, NearestNeighbors\n",
        "\n",
        "import torch\n",
        "import time\n",
        "import copy\n",
        "import torchvision\n",
        "import torchvision.transforms as transforms\n",
        "import torch\n",
        "import torch.nn as nn\n",
        "import torch.nn.functional as func\n",
        "import pandas as pd\n",
        "import numpy as np\n",
        "import matplotlib.pyplot as plt\n",
        "from torch.utils.data import Dataset, DataLoader\n",
        "from torchvision import transforms, utils\n",
        "from torchvision.transforms import ToTensor,Resize\n",
        "\n",
        "from torchvision import models\n",
        "import torch.nn.functional as F\n",
        "from torch.optim import lr_scheduler\n",
        "\n",
        "from sklearn.model_selection import train_test_split\n",
        "\n",
        "from PIL import Image\n",
        "\n",
        "import matplotlib.pyplot as plt\n",
        "%matplotlib inline\n",
        "\n",
        "\n",
        "import warnings\n",
        "warnings.filterwarnings(\"ignore\")\n",
        "\n"
      ],
      "execution_count": 0,
      "outputs": []
    },
    {
      "cell_type": "markdown",
      "metadata": {
        "id": "AYz0mqZkbgnn",
        "colab_type": "text"
      },
      "source": [
        "### **Loading Data**"
      ]
    },
    {
      "cell_type": "code",
      "metadata": {
        "id": "rspotydesmn7",
        "colab_type": "code",
        "colab": {}
      },
      "source": [
        "def load_data(foldername = 'PetImages/', train_size = 400, test_size = 1000):\n",
        "\n",
        "    fileList = []\n",
        "    for dirname, _, filenames in os.walk(foldername):\n",
        "        for filename in filenames:\n",
        "            if filename =='666.jpg' or filename == '11702.jpg':\n",
        "                continue\n",
        "            fileList.append(os.path.join(dirname, filename))\n",
        "\n",
        "    \n",
        "    classList = []\n",
        "\n",
        "    for i in range(len(fileList)):\n",
        "        if 'Cat' in fileList[i]:\n",
        "            classList.append('Cat')\n",
        "        else:\n",
        "            classList.append('Dog')\n",
        "\n",
        "    df = pd.DataFrame({'filepath':fileList,'label':classList})  \n",
        "\n",
        "    trainDf,testDf, trainy,testy = train_test_split(df, df.label, train_size = train_size, test_size =test_size)\n",
        "\n",
        "    return trainDf, testDf\n",
        "      \n"
      ],
      "execution_count": 0,
      "outputs": []
    },
    {
      "cell_type": "code",
      "metadata": {
        "id": "gxnyeQOdjGd-",
        "colab_type": "code",
        "colab": {}
      },
      "source": [
        "trainDf, testDf = load_data(train_size = 400, test_size = 1000)"
      ],
      "execution_count": 0,
      "outputs": []
    },
    {
      "cell_type": "markdown",
      "metadata": {
        "id": "NW_10NpTbeAH",
        "colab_type": "text"
      },
      "source": [
        "### **Utils**"
      ]
    },
    {
      "cell_type": "markdown",
      "metadata": {
        "id": "fi5dnvPneMe-",
        "colab_type": "text"
      },
      "source": [
        "#### Helper Functions"
      ]
    },
    {
      "cell_type": "code",
      "metadata": {
        "id": "cfU3COR6Qz9b",
        "colab_type": "code",
        "colab": {}
      },
      "source": [
        "def getFeat(net, imgList):\n",
        "\n",
        "    net.eval()\n",
        "    featList = []\n",
        "\n",
        "    with torch.no_grad():\n",
        "        for i in range(len(imgList)):\n",
        "            feat = net.getFeatures(imgList[i])\n",
        "            featList.append(feat.squeeze(0).detach().cpu().numpy())\n",
        "\n",
        "    return np.array(featList)\n",
        "\n",
        "\n",
        "def getCDDistribution(net,imgList, labelList ):\n",
        "\n",
        "    uniqueClasses = [0,1]\n",
        "\n",
        "    NUM_COLORS = 2\n",
        "\n",
        "    # featList = []\n",
        "\n",
        "    # for i in range(len(imgList)):\n",
        "    #     feat = net.getFeatures(imgList[i])\n",
        "    #     featList.append(feat.squeeze(0).detach().cpu().numpy())\n",
        "\n",
        "\n",
        "    get_color = plt.get_cmap('viridis')\n",
        "\n",
        "    colorMap = {}\n",
        "    for i in range(len(uniqueClasses)):\n",
        "        colorMap[uniqueClasses[i]] = get_color(i/NUM_COLORS)\n",
        "    \n",
        "    support = getFeat(net, imgList)\n",
        "    X = support\n",
        "\n",
        "    print(X.shape)\n",
        "\n",
        "    # scaler = StandardScaler()\n",
        "    # X = scaler.fit_transform(support)\n",
        "\n",
        "    pca = PCA(n_components=2)\n",
        "    pcaX = pca.fit_transform(X=X)\n",
        "    varExplained = np.sum(pca.explained_variance_ratio_[:2])\n",
        "    print(f\"Variance Explained : {varExplained}\")\n",
        "\n",
        "    colors = [colorMap[int(x)] for x in labelList]\n",
        "    for i in range(len(uniqueClasses)):\n",
        "      index = np.array(labelList) == int(uniqueClasses[i])\n",
        "      plt.scatter(pcaX[index,0], pcaX[index,1], color=colorMap[int(uniqueClasses[i])], label =int(uniqueClasses[i]))\n",
        "    plt.legend()\n",
        "\n",
        "    plt.show()\n",
        "    \n",
        "def compareDist(net, criterion, img1, img2, label,  metric = 'cosine',printOutput=True):\n",
        "\n",
        "    net.eval()\n",
        "\n",
        "    output1 = net.getFeatures(img1)\n",
        "    output2 = net.getFeatures(img2)\n",
        "\n",
        "    if metric == 'cosine':\n",
        "        dist = 1 - torch.nn.functional.cosine_similarity(output1, output2)\n",
        "    else:\n",
        "        dist = torch.nn.functional.pairwise_distance(output1, output2)\n",
        "        \n",
        "    loss =  criterion(output1, output2, label) \n",
        "\n",
        "    dist = dist.detach().cpu().numpy()\n",
        "\n",
        "    dist = np.round(dist[0],3)\n",
        "\n",
        "    if printOutput:\n",
        "        print(f\"Dist : {dist} Loss : {loss} Target Label : {int(label)}\")\n",
        "\n",
        "    return dist, loss\n",
        "\n",
        "\n"
      ],
      "execution_count": 0,
      "outputs": []
    },
    {
      "cell_type": "code",
      "metadata": {
        "id": "_mQR6wJGQqZL",
        "colab_type": "code",
        "colab": {}
      },
      "source": [
        "def testModel(net, imgList, labelList, testDataset_):\n",
        "\n",
        "    correct = 0\n",
        "    net.eval()\n",
        "\n",
        "    trainFeat = getFeat(net,imgList)\n",
        "\n",
        "    knnModel = KNeighborsClassifier(n_neighbors=10, metric='cosine')\n",
        "    knnModel.fit(trainFeat, labelList)\n",
        "\n",
        "    for i in tqdm(range(len(testDataset_))):\n",
        "        predImg, predLabel = testDataset_[i]\n",
        "        predImg = predImg.cuda().unsqueeze(0)\n",
        "\n",
        "        testFeat = getFeat(net, [predImg])\n",
        "        pred = knnModel.predict(testFeat)\n",
        "\n",
        "\n",
        "        if pred == predLabel:\n",
        "            correct += 1\n",
        "\n",
        "    # print(f\"Accuracy is : {correct/len(testDataset_)}\")\n",
        "\n",
        "    acc = np.round(correct/len(testDataset_),4)\n",
        "    return acc\n",
        "\n",
        "\n",
        "def testModel_(net, imgList, labelList):\n",
        "\n",
        "    correct = 0\n",
        "    net.eval()\n",
        "\n",
        "    trainFeat = getFeat(net,imgList)\n",
        "\n",
        "    knnModel = KNeighborsClassifier(n_neighbors=10, metric='cosine')\n",
        "    knnModel.fit(trainFeat, labelList)\n",
        "\n",
        "    for i in tqdm(range(len(imgList))):\n",
        "        pred = knnModel.predict(trainFeat[i,:].reshape(1,-1))\n",
        "\n",
        "        if pred == labelList[i]:\n",
        "            correct += 1\n",
        "\n",
        "    # print(f\"Accuracy is : {correct/len(imgList)}\")\n",
        "\n",
        "    acc = np.round(correct/len(imgList),4)\n",
        "    return acc\n",
        "\n"
      ],
      "execution_count": 0,
      "outputs": []
    },
    {
      "cell_type": "code",
      "metadata": {
        "id": "1ccTJ11yNCDE",
        "colab_type": "code",
        "colab": {}
      },
      "source": [
        "def predictModel(net, test_dataloader_):\n",
        "\n",
        "    net.eval()\n",
        "\n",
        "    labelList = []\n",
        "    predList = []\n",
        "\n",
        "    with torch.no_grad():\n",
        "\n",
        "        for (img,labels) in test_dataloader_:\n",
        "            img,labels = img.cuda(), labels.cuda()\n",
        "            \n",
        "            outputs = net(img)\n",
        "            _, preds = torch.max(outputs, 1)\n",
        "\n",
        "            labelList = labelList + list(labels.cpu().numpy())\n",
        "            predList = predList + list(preds.cpu().numpy())\n",
        "\n",
        "    return labelList, predList\n",
        "\n",
        "            "
      ],
      "execution_count": 0,
      "outputs": []
    },
    {
      "cell_type": "code",
      "metadata": {
        "id": "BZ-E0ri6bvGV",
        "colab_type": "code",
        "colab": {}
      },
      "source": [
        "def getSupport(net, dataloader):\n",
        "\n",
        "    supports = []\n",
        "    labels = []\n",
        "\n",
        "    with torch.no_grad():\n",
        "\n",
        "        net.eval()\n",
        "\n",
        "        for data in dataloader:\n",
        "            x,y = data\n",
        "            x = x.to('cuda')\n",
        "            feat = net.getFeatures(x)\n",
        "\n",
        "            supports.append(feat)\n",
        "            labels.append(y)\n",
        "\n",
        "    support = torch.cat(supports,axis=0)\n",
        "    labels = torch.cat(labels,axis=0)\n",
        "\n",
        "    return support, labels\n",
        "\n",
        "\n",
        "def compareSamples(index1,index2, metric = 'cosine'):\n",
        "    img1 = testX[index1].unsqueeze(0).repeat(3,1,1)\n",
        "    img2 = testX[index2].unsqueeze(0).repeat(3,1,1)\n",
        "\n",
        "    label1, label2 = testy[index1], testy[index2]\n",
        "\n",
        "    if label1 ==label2:\n",
        "        trainLabel = 1\n",
        "    else:\n",
        "        trainLabel = 0\n",
        "\n",
        "    print(f\"Labels are {label1} and {label2}\")\n",
        "\n",
        "\n",
        "    feat1 = net.getFeatures(img1.unsqueeze(0).cuda().float())\n",
        "    feat2 = net.getFeatures(img2.unsqueeze(0).cuda().float())\n",
        "\n",
        "    if metric=='cosine':\n",
        "      dist = F.cosine_similarity(feat1, feat2)\n",
        "    else:\n",
        "      dist = F.pairwise_distance(feat1,feat2)\n",
        "\n",
        "    loss = criterion(feat1, feat2, trainLabel)\n",
        "\n",
        "    print(f\"dist is {float(dist)} and loss is {loss}\")\n",
        "\n",
        "\n",
        "\n",
        "def getDistribution(support, labels ):\n",
        "\n",
        "    uniqueClasses = sorted(pd.Series(labels).unique())\n",
        "\n",
        "    NUM_COLORS = len(uniqueClasses)\n",
        "\n",
        "    \n",
        "    # get_color = matplotlib.colors.LinearSegmentedColormap.from_list(mp, colors=['r', 'y', 'g', 'b'], N=NUM_COLORS)\n",
        "\n",
        "    get_color = plt.get_cmap('viridis')\n",
        "\n",
        "    colorMap = {}\n",
        "    for i in range(len(uniqueClasses)):\n",
        "        colorMap[uniqueClasses[i]] = get_color(i/NUM_COLORS)\n",
        "    \n",
        "    support = support.cpu().numpy()\n",
        "\n",
        "    scaler = StandardScaler()\n",
        "    X = scaler.fit_transform(support)\n",
        "\n",
        "    pca = PCA(n_components=2)\n",
        "    pcaX = pca.fit_transform(X=X)\n",
        "    varExplained = np.sum(pca.explained_variance_ratio_[:2])\n",
        "    print(f\"Variance Explained : {varExplained}\")\n",
        "\n",
        "    colors = [colorMap[int(x)] for x in labels]\n",
        "    for i in range(len(uniqueClasses)):\n",
        "      index = np.array(labels) == int(uniqueClasses[i])\n",
        "      plt.scatter(pcaX[index,0], pcaX[index,1], color=colorMap[int(uniqueClasses[i])], label =int(uniqueClasses[i]))\n",
        "    plt.legend()\n",
        "\n",
        "    plt.show()\n",
        "\n",
        "\n",
        "def getClassMap(uniqueClass):\n",
        "\n",
        "    classMap = {}\n",
        "    for i in range(len(uniqueClass)):\n",
        "        classMap[uniqueClass[i]] = i\n",
        "\n",
        "    classMap_ = {k:v for v,k in classMap.items()}\n",
        "\n",
        "    return classMap, classMap_"
      ],
      "execution_count": 0,
      "outputs": []
    },
    {
      "cell_type": "code",
      "metadata": {
        "id": "eI2tepyMcKNE",
        "colab_type": "code",
        "colab": {}
      },
      "source": [
        "def getPred(net, train_dataloader_, testDataset_, metric = 'cosine', usePCA = False, PCA_components = 10):\n",
        "\n",
        "    support, labels = getSupport(net, train_dataloader_)\n",
        "\n",
        "    X = support.cpu().numpy()\n",
        "\n",
        "    pca = PCA(n_components=PCA_components)\n",
        "    if usePCA:\n",
        "      X = pca.fit_transform(X=X)\n",
        "\n",
        "    knnModel = KNeighborsClassifier(n_neighbors=8,metric=metric)\n",
        "    knnModel.fit(X, labels)\n",
        "\n",
        "    labelList = []\n",
        "    predList = []\n",
        "    for i in tqdm(range(len(testDataset_))):\n",
        "        testX = net.getFeatures(testDataset_[i][0].unsqueeze(0).cuda()).detach().cpu().numpy()\n",
        "        label = int(testDataset_[i][1])\n",
        "        if usePCA:\n",
        "          testX = pca.transform(testX)\n",
        "\n",
        "        pred = knnModel.predict(testX)\n",
        "        predList.append(pred[0])\n",
        "        labelList.append(label)\n",
        "\n",
        "    \n",
        "    return predList, labelList"
      ],
      "execution_count": 0,
      "outputs": []
    },
    {
      "cell_type": "code",
      "metadata": {
        "id": "AgOfADmPvxMC",
        "colab_type": "code",
        "colab": {}
      },
      "source": [
        "def getFeat(net, imgList):\n",
        "\n",
        "    net.eval()\n",
        "    featList = []\n",
        "\n",
        "    with torch.no_grad():\n",
        "        for i in range(len(imgList)):\n",
        "            feat = net.getFeatures(imgList[i])\n",
        "            featList.append(feat.squeeze(0).detach().cpu().numpy())\n",
        "\n",
        "    return np.array(featList)\n",
        "\n",
        "\n",
        "def getCDDistribution(net,imgList, labelList ):\n",
        "\n",
        "    uniqueClasses = [0,1]\n",
        "\n",
        "    NUM_COLORS = 2\n",
        "\n",
        "    # featList = []\n",
        "\n",
        "    # for i in range(len(imgList)):\n",
        "    #     feat = net.getFeatures(imgList[i])\n",
        "    #     featList.append(feat.squeeze(0).detach().cpu().numpy())\n",
        "\n",
        "\n",
        "    get_color = plt.get_cmap('viridis')\n",
        "\n",
        "    colorMap = {}\n",
        "    for i in range(len(uniqueClasses)):\n",
        "        colorMap[uniqueClasses[i]] = get_color(i/NUM_COLORS)\n",
        "    \n",
        "    support = getFeat(net, imgList)\n",
        "    X = support\n",
        "\n",
        "    print(X.shape)\n",
        "\n",
        "    # scaler = StandardScaler()\n",
        "    # X = scaler.fit_transform(support)\n",
        "\n",
        "    pca = PCA(n_components=2)\n",
        "    pcaX = pca.fit_transform(X=X)\n",
        "    varExplained = np.sum(pca.explained_variance_ratio_[:2])\n",
        "    print(f\"Variance Explained : {varExplained}\")\n",
        "\n",
        "    colors = [colorMap[int(x)] for x in labelList]\n",
        "    for i in range(len(uniqueClasses)):\n",
        "      index = np.array(labelList) == int(uniqueClasses[i])\n",
        "      plt.scatter(pcaX[index,0], pcaX[index,1], color=colorMap[int(uniqueClasses[i])], label =int(uniqueClasses[i]))\n",
        "    plt.legend()\n",
        "\n",
        "    plt.show()"
      ],
      "execution_count": 0,
      "outputs": []
    },
    {
      "cell_type": "markdown",
      "metadata": {
        "id": "p69ejtvocL5F",
        "colab_type": "text"
      },
      "source": [
        "#### Class Definitions"
      ]
    },
    {
      "cell_type": "markdown",
      "metadata": {
        "id": "pRL0bqlJ-Gc0",
        "colab_type": "text"
      },
      "source": [
        "##### GradCapture"
      ]
    },
    {
      "cell_type": "code",
      "metadata": {
        "id": "iBedwxQI-JTo",
        "colab_type": "code",
        "colab": {}
      },
      "source": [
        "class ModuleHook():\n",
        "    def __init__(self, module, backward=True):\n",
        "\n",
        "        self.gradList = []\n",
        "\n",
        "        if backward==False:\n",
        "            self.hook = module.register_forward_hook(self.hook_fn)\n",
        "        else:\n",
        "            self.hook = module.register_backward_hook(self.hook_fn)\n",
        "    \n",
        "    def __getitem__(self,key):\n",
        "        return self.gradList[key]\n",
        "\n",
        "    def hook_fn(self, module, grad_input, grad_output):\n",
        "        self.gradList.append(grad_output.cpu().numpy())\n",
        "\n",
        "    def close(self):\n",
        "        self.hook.remove()\n",
        "\n",
        "\n",
        "class ParamHook():\n",
        "    def __init__(self, param):\n",
        "        self.gradList = []\n",
        "        self.hook = param.register_hook(self.hook_fn)\n",
        "\n",
        "    def __getitem__(self, key):\n",
        "        return self.gradList[key]\n",
        "      \n",
        "    def hook_fn(self, grad):\n",
        "        meanGrad = grad.abs().mean().cpu().numpy()\n",
        "        maxGrad = grad.abs().max().cpu().numpy()\n",
        "        self.gradList.append([meanGrad,maxGrad])\n",
        "\n",
        "    def close(self):\n",
        "        self.hook.remove()\n",
        "\n",
        "\n",
        "class gradCapture():\n",
        "\n",
        "   def __init__(self):\n",
        "     self.paramGradList = {}\n",
        "     self.gradList = {}\n",
        "\n",
        "     self.paramHooks = {}\n",
        "     self.moduleHooks = {}\n",
        "\n",
        "\n",
        "   def registerHooks(self, model):\n",
        "\n",
        "     for name, param in net.named_parameters():\n",
        "       self.paramHooks[name] = ParamHook(param)\n",
        "\n",
        "   def plotGrad(self, paramList, plotMean = True, plotRange = None):\n",
        "\n",
        "     length = len(self.paramHooks[list(self.paramHooks.keys())[0]].gradList)\n",
        "     \n",
        "     if plotRange :\n",
        "         x = list(range(plotRange[0], plotRange[1]))\n",
        "     else:\n",
        "         x = list(range(length))\n",
        "\n",
        "     for i in range(len(paramList)):\n",
        "       key = paramList[i]\n",
        "       if plotMean:\n",
        "         y = [i[0] for i in gradCap.paramHooks[key].gradList]\n",
        "       else:\n",
        "         y = [i[1] for i in gradCap.paramHooks[key].gradList]\n",
        "\n",
        "       if plotRange :\n",
        "        y = np.array(y)[plotRange[0]:plotRange[1]]\n",
        "    \n",
        "        \n",
        "       plt.plot(x,y,label=key)\n",
        "\n",
        "     plt.legend()\n",
        "\n",
        "\n",
        "  "
      ],
      "execution_count": 0,
      "outputs": []
    },
    {
      "cell_type": "markdown",
      "metadata": {
        "id": "tjKaF9P4JyzQ",
        "colab_type": "text"
      },
      "source": [
        "##### Siamese Dataset"
      ]
    },
    {
      "cell_type": "code",
      "metadata": {
        "id": "xGJlprqvcgoK",
        "colab_type": "code",
        "colab": {}
      },
      "source": [
        "class SiameseDataset(torch.utils.data.Dataset):\n",
        "  def __init__(self, df, prob = 0.5, transform = None, classMap= None, classMap_ = None):\n",
        "    \"\"\" \n",
        "    df : Dataframe with filename and label columns.\n",
        "\n",
        "\n",
        "    \"\"\"\n",
        "    \n",
        "    self.df = df\n",
        "    self.transform = transform\n",
        "    self.numClasses = df.label.nunique()\n",
        "    self.uniqueLabels = sorted(df.label.unique())\n",
        "    self.prob = prob\n",
        "\n",
        "    if classMap is None or classMap_ is None:\n",
        "        self.classMap, self.classMap_ = getClassMap(self.df.label.unique())\n",
        "    else:\n",
        "        self.classMap, self.classMap_ = classMap, classMap_\n",
        "        \n",
        "  def __len__(self):\n",
        "    \n",
        "    return len(self.df)\n",
        "    \n",
        "  def __getitem__(self, index):\n",
        "\n",
        "    is_positive = np.random.random() < self.prob\n",
        "\n",
        "    if is_positive:\n",
        "        posLabel = np.random.choice(self.uniqueLabels,1)[0]\n",
        "\n",
        "        # print(posLabel)\n",
        "        subDf = self.df[self.df.label == posLabel] \n",
        "        subDf = subDf.sample(2, replace = False)\n",
        "            \n",
        "        filename1, filename2 = subDf.iloc[0]['filepath'], subDf.iloc[1]['filepath']\n",
        "        img1, img2 =  Image.open(os.path.join(filename1)).convert('RGB'), Image.open(os.path.join(filename2)).convert('RGB')\n",
        "        \n",
        "        target_label = 1\n",
        "        \n",
        "        if self.transform is not None:\n",
        "            img1 = self.transform(img1)\n",
        "            img2 = self.transform(img2)\n",
        "            \n",
        "        # img1 = img1/255.0\n",
        "        # img2 = img2/255.0\n",
        "\n",
        "    else:\n",
        "\n",
        "        negLabels = np.random.choice(self.uniqueLabels,2, replace = False)\n",
        "\n",
        "\n",
        "        subDf1 = self.df[self.df.label == negLabels[0]].sample(1)\n",
        "        subDf2 = self.df[self.df.label == negLabels[1]].sample(1)\n",
        "\n",
        "        filename1, filename2 = subDf1.iloc[0]['filepath'], subDf2.iloc[0]['filepath']\n",
        "        img1, img2 =  Image.open(os.path.join(filename1)).convert('RGB'), Image.open(os.path.join(filename2)).convert('RGB')\n",
        "\n",
        "        target_label = 0\n",
        "\n",
        "        if self.transform is not None:\n",
        "            img1 = self.transform(img1)\n",
        "            img2 = self.transform(img2)\n",
        "            \n",
        "        # img1 = img1/255.0\n",
        "        # img2 = img2/255.0\n",
        "\n",
        "\n",
        "    \n",
        "    return img1,img2, target_label\n",
        "\n",
        "\n",
        "\n",
        "\n"
      ],
      "execution_count": 0,
      "outputs": []
    },
    {
      "cell_type": "markdown",
      "metadata": {
        "id": "kBkcPfNmJ2SV",
        "colab_type": "text"
      },
      "source": [
        "##### Image Dataset"
      ]
    },
    {
      "cell_type": "code",
      "metadata": {
        "id": "3LWZtw5yJ84u",
        "colab_type": "code",
        "colab": {}
      },
      "source": [
        "#Defining the PyTorch Dataset for retrieving the ships data\n",
        "class ImageDataset(torch.utils.data.Dataset):\n",
        "  def __init__(self, df, transform, classMap= None, classMap_ = None):\n",
        "    \n",
        "    \n",
        "    self.df = df\n",
        "    self.transform = transform\n",
        "\n",
        "    if classMap is None or classMap_ is None:\n",
        "        self.classMap, self.classMap_ = getClassMap(self.df.label.unique())\n",
        "    else:\n",
        "        self.classMap, self.classMap_ = classMap, classMap_\n",
        "        \n",
        "    \n",
        "  def __len__(self):\n",
        "    \n",
        "    return len(self.df)\n",
        "    \n",
        "  def __getitem__(self, index):\n",
        "    \n",
        "    filename = self.df.iloc[index]['filepath']\n",
        "    \n",
        "    img =  Image.open(os.path.join(filename)).convert('RGB')\n",
        "\n",
        "    \n",
        "    label = self.classMap[self.df.iloc[index]['label']]\n",
        "    \n",
        "    if self.transform is not None:\n",
        "        img = self.transform(img)\n",
        "    \n",
        "    \n",
        "    # img = img/255.0\n",
        "    \n",
        "    return img, label"
      ],
      "execution_count": 0,
      "outputs": []
    },
    {
      "cell_type": "code",
      "metadata": {
        "id": "yefzuTAyC6jK",
        "colab_type": "code",
        "colab": {}
      },
      "source": [
        "class Net2(nn.Module):\n",
        "\n",
        "    def __init__(self,activation = 'relu'):\n",
        "        super().__init__()\n",
        "\n",
        "        self.activation = activation\n",
        "        self.conv1 = nn.Conv2d(3, 64, 7, stride=(2,2))\n",
        "        self.pool1 = nn.MaxPool2d(2)\n",
        "        self.conv2 = nn.Conv2d(64, 128, 5, stride=(2,2))\n",
        "        self.conv3 = nn.Conv2d(128, 256,5)\n",
        "        self.pool2 = nn.MaxPool2d(2)\n",
        "        self.conv4 = nn.Conv2d(256, 256, 3)\n",
        "        # self.conv5 = nn.Conv2d(256, 256, 3)\n",
        "        self.linear = nn.Linear(4096, EMBEDDING_SIZE)\n",
        "\n",
        "\n",
        "        self.final = self.final = nn.Sequential(\n",
        "                nn.Linear(EMBEDDING_SIZE,1,bias=False),\n",
        "                nn.Sigmoid()\n",
        "                )\n",
        "\n",
        "        # self.linear2 = nn.Linear(512, 3)\n",
        "\n",
        "    def getFeatures(self, x):\n",
        "\n",
        "        x = self.conv1(x)\n",
        "        x = F.relu(x)\n",
        "        x = self.pool1(x)\n",
        "        x = self.conv2(x)\n",
        "        x = F.relu(x)\n",
        "        x = self.conv3(x)\n",
        "        x = F.relu(x)\n",
        "        x = self.pool2(x)\n",
        "        x = self.conv4(x)\n",
        "        x = F.relu(x)\n",
        "        x = self.pool2(x)\n",
        "        x = F.relu(x)\n",
        "\n",
        "\n",
        "        x = x.view(x.shape[0], -1)\n",
        "        \n",
        "        x = self.linear(x)\n",
        "        x = F.relu(x)\n",
        "\n",
        "\n",
        "        return x\n",
        "\n",
        "    def forward(self, x1, x2):\n",
        "\n",
        "        out1 = self.getFeatures(x1)\n",
        "        out2 = self.getFeatures(x2)\n",
        "        # print(out1)\n",
        "        # print(out2)\n",
        "        # h = F.l1_loss(out1,out2,size_average=False,reduce=False)\n",
        "        h = torch.abs(out1 - out2)\n",
        "\n",
        "        # print(h)\n",
        "\n",
        "        out = self.final(h)\n",
        "\n",
        "        return out\n",
        "\n"
      ],
      "execution_count": 0,
      "outputs": []
    },
    {
      "cell_type": "markdown",
      "metadata": {
        "id": "ldLQVWXmUt7n",
        "colab_type": "text"
      },
      "source": [
        "##### ResnetSiamese"
      ]
    },
    {
      "cell_type": "code",
      "metadata": {
        "id": "ed_sKbqjUwDK",
        "colab_type": "code",
        "colab": {}
      },
      "source": [
        "class resnetSiamese(torch.nn.Module):\n",
        "    def __init__(self, arch = 'resnet18', pretrained = True, activation = 'relu'):\n",
        "\n",
        "        super(resnetSiamese, self).__init__()\n",
        "        \n",
        "        if arch == 'resnet18':\n",
        "            resnetModel_ = torchvision.models.resnet.resnet18(pretrained=pretrained)\n",
        "        elif arch == 'resnet34':\n",
        "            resnetModel_ = torchvision.models.resnet.resnet34(pretrained=pretrained)\n",
        "        else:\n",
        "            resnetModel_ = torchvision.models.resnet.resnet50(pretrained=pretrained)\n",
        "\n",
        "        self.activation = activation\n",
        "\n",
        "        for name,child in resnetModel_.named_children():\n",
        "          setattr(self, name, getattr(resnetModel_, name))\n",
        "\n",
        "        if arch == 'resnet50':\n",
        "            self.linear1 = nn.Linear(4096,EMBEDDING_SIZE)\n",
        "        else:\n",
        "            self.linear1 = nn.Linear(512,EMBEDDING_SIZE)\n",
        "\n",
        "    def getFeatures(self,x):\n",
        "\n",
        "        x = self.conv1(x)\n",
        "        x = self.bn1(x)\n",
        "        x = self.relu(x)\n",
        "        x = self.maxpool(x)\n",
        "\n",
        "        x = self.layer1(x)\n",
        "        x = self.layer2(x)\n",
        "        x = self.layer3(x)\n",
        "        x = self.layer4(x)\n",
        "\n",
        "\n",
        "        x = self.avgpool(x)\n",
        "        x = torch.flatten(x, 1)\n",
        "        \n",
        "        if self.activation =='relu':\n",
        "          x = F.relu(x)\n",
        "        else:\n",
        "          x = torch.sigmoid(x)\n",
        "\n",
        "        x = self.linear1(x)\n",
        "        \n",
        "        if self.activation =='relu':\n",
        "          x = F.relu(x)\n",
        "        else:\n",
        "          x = torch.sigmoid(x)\n",
        "         \n",
        "        return x\n",
        "\n",
        "    def forward(self,x1, x2):\n",
        "\n",
        "        x1 = self.getFeatures(x1)\n",
        "        x2 = self.getFeatures(x2)\n",
        "\n",
        "        return x1, x2\n",
        "\n"
      ],
      "execution_count": 0,
      "outputs": []
    },
    {
      "cell_type": "markdown",
      "metadata": {
        "id": "ysgPJ1s4AHsK",
        "colab_type": "text"
      },
      "source": [
        "##### Contrastive Loss"
      ]
    },
    {
      "cell_type": "code",
      "metadata": {
        "id": "i_IpCr6CAH7m",
        "colab_type": "code",
        "colab": {}
      },
      "source": [
        "\n",
        "\n",
        "class ContrastiveLoss(torch.nn.Module):\n",
        "    \"\"\"\n",
        "    Contrastive loss function.\n",
        "    Based on: http://yann.lecun.com/exdb/publis/pdf/hadsell-chopra-lecun-06.pdf\n",
        "    \"\"\"\n",
        "\n",
        "    def __init__(self, margin=15.0, metric='cosine'):\n",
        "        super(ContrastiveLoss, self).__init__()\n",
        "        self.margin = margin\n",
        "        self.metric = metric\n",
        "\n",
        "    def forward_cosine(self, output1, output2, label):\n",
        "        euclidean_distance = 1 - torch.nn.functional.cosine_similarity(output1, output2)\n",
        "        # print(euclidean_distance)\n",
        "        loss_contrastive = torch.mean((label) * torch.pow(euclidean_distance, 2) +\n",
        "                                      (1 - label) * torch.pow(torch.clamp(self.margin - euclidean_distance, min=0.0), 2))\n",
        "        \n",
        "        return loss_contrastive\n",
        "      \n",
        "    def forward_euclidean(self, output1, output2, label):\n",
        "        euclidean_distance = torch.nn.functional.pairwise_distance(output1, output2)\n",
        "        # print(euclidean_distance)\n",
        "        loss_contrastive = torch.mean((label) * torch.pow(euclidean_distance, 2) +\n",
        "                                      (1 - label) * torch.pow(torch.clamp(self.margin - euclidean_distance, min=0.0), 2))\n",
        "        return loss_contrastive\n",
        "\n",
        "    def forward(self, output1, output2, label):\n",
        "\n",
        "      if self.metric =='cosine':\n",
        "        loss = self.forward_cosine(output1, output2, label)\n",
        "      else:\n",
        "        loss = self.forward_euclidean(output1, output2, label)\n",
        "      \n",
        "      return loss\n",
        "\n"
      ],
      "execution_count": 0,
      "outputs": []
    },
    {
      "cell_type": "markdown",
      "metadata": {
        "id": "JNr5lhOrtdhG",
        "colab_type": "text"
      },
      "source": [
        "## **Experiments**"
      ]
    },
    {
      "cell_type": "code",
      "metadata": {
        "id": "-8jv5PbmucO4",
        "colab_type": "code",
        "colab": {}
      },
      "source": [
        "train_transform = transforms.Compose([\n",
        "                                      transforms.Resize((224,224)),\n",
        "        transforms.RandomHorizontalFlip(),\n",
        "        transforms.ToTensor(),\n",
        "        transforms.Normalize([0.485, 0.456, 0.406], [0.229, 0.224, 0.225])\n",
        "])\n",
        "\n",
        "test_transform = transforms.Compose([\n",
        "                                     transforms.Resize((224,224)),\n",
        "        transforms.ToTensor(),\n",
        "        transforms.Normalize([0.485, 0.456, 0.406], [0.229, 0.224, 0.225])\n",
        "])\n",
        "\n"
      ],
      "execution_count": 0,
      "outputs": []
    },
    {
      "cell_type": "markdown",
      "metadata": {
        "id": "dIzKmkCGtiDM",
        "colab_type": "text"
      },
      "source": [
        "### **Basic CNN Siamese**"
      ]
    },
    {
      "cell_type": "code",
      "metadata": {
        "id": "4m2DqDolthMV",
        "colab_type": "code",
        "colab": {}
      },
      "source": [
        "NUM_TRAIN_SAMPLES = 400\n",
        "NUM_TEST_SAMPLES = 1000\n",
        "STEPS_PER_EPOCH = 250\n",
        "NUM_EPOCHS = 50\n",
        "EMBEDDING_SIZE = 100"
      ],
      "execution_count": 0,
      "outputs": []
    },
    {
      "cell_type": "markdown",
      "metadata": {
        "id": "AztsyHyut9TD",
        "colab_type": "text"
      },
      "source": [
        "#### Network Defintion"
      ]
    },
    {
      "cell_type": "code",
      "metadata": {
        "id": "r94oFBBWt-4H",
        "colab_type": "code",
        "colab": {}
      },
      "source": [
        "def ConvNormRelu(inChannels, outChannels, kernel=5, stride=2):\n",
        "\n",
        "    module = nn.Sequential(nn.Conv2d(in_channels=inChannels, out_channels=outChannels, kernel_size=kernel, stride = stride ),\n",
        "                           nn.BatchNorm2d(outChannels),\n",
        "                           nn.ReLU())\n",
        "\n",
        "    return module\n",
        "\n",
        "class Net(nn.Module):\n",
        "\n",
        "    def __init__(self,activation = 'relu'):\n",
        "        super().__init__()\n",
        "\n",
        "        self.activation = activation\n",
        "\n",
        "        self.pool = nn.MaxPool2d(2)\n",
        "\n",
        "        self.conv1 = ConvNormRelu(3,64,7,2)\n",
        "        self.conv2 = ConvNormRelu(64,128,5,2)\n",
        "        self.conv3 = ConvNormRelu(128,256,5,1)\n",
        "        self.conv4 = ConvNormRelu(256,256,3,1)\n",
        "         \n",
        "        self.drop = nn.Dropout2d(0.1)\n",
        "        \n",
        "        self.linear = nn.Linear(4096, EMBEDDING_SIZE)\n",
        "\n",
        "\n",
        "\n",
        "    def getFeatures(self, x):\n",
        "\n",
        "        x = self.conv1(x)\n",
        "        x = self.pool(x)\n",
        "        x = self.drop(x)\n",
        "\n",
        "        x = self.conv2(x)\n",
        "\n",
        "        x = self.conv3(x)\n",
        "        x = self.drop(x)\n",
        "        x = self.pool(x)\n",
        "\n",
        "        x = self.conv4(x)\n",
        "        x = self.pool(x)\n",
        "        x = self.drop(x)\n",
        "        \n",
        "        x = x.view(x.shape[0], -1)\n",
        "        \n",
        "        x = self.linear(x)\n",
        "\n",
        "        if self.activation=='relu':\n",
        "            x = F.relu(x)\n",
        "        else:\n",
        "            x = torch.sigmoid(x)\n",
        "\n",
        "        return x\n",
        "\n",
        "    def forward(self, x1, x2):\n",
        "\n",
        "        out1 = self.getFeatures(x1)\n",
        "        out2 = self.getFeatures(x2)\n",
        "\n",
        "        return out1, out2"
      ],
      "execution_count": 0,
      "outputs": []
    },
    {
      "cell_type": "code",
      "metadata": {
        "id": "1yhzsSOkuIW3",
        "colab_type": "code",
        "colab": {}
      },
      "source": [
        "net = Net(activation = 'relu')\n",
        "\n",
        "\n",
        "gradCap = gradCapture()\n",
        "gradCap.registerHooks(net)\n",
        "\n",
        "net.to('cuda')\n",
        "\n",
        "criterion = ContrastiveLoss(margin=0.4, metric='cosine')\n",
        "\n",
        "optimizer = torch.optim.Adam(filter(lambda p: p.requires_grad, net.parameters()) ,lr = 0.00001 )\n",
        "\n"
      ],
      "execution_count": 0,
      "outputs": []
    },
    {
      "cell_type": "markdown",
      "metadata": {
        "id": "ngaa8yqbvLLM",
        "colab_type": "text"
      },
      "source": [
        "#### **Defining Datasets**"
      ]
    },
    {
      "cell_type": "code",
      "metadata": {
        "id": "haX6D9SWuwce",
        "colab_type": "code",
        "colab": {}
      },
      "source": [
        "trainDf,testDf = load_data(train_size = NUM_TRAIN_SAMPLES, test_size = NUM_TEST_SAMPLES)\n",
        "\n",
        "trainDataset = SiameseDataset(trainDf, prob = 0.5, transform=train_transform)\n",
        "\n",
        "trainDataset_ = ImageDataset(trainDf, transform = train_transform)\n",
        "testDataset_ = ImageDataset(testDf, transform = test_transform, classMap = trainDataset_.classMap, classMap_= trainDataset_.classMap_)\n",
        "\n",
        "train_dataloader = DataLoader(trainDataset,\n",
        "                        shuffle=True,\n",
        "                        num_workers=1,\n",
        "                        batch_size=10)\n",
        "\n",
        "train_dataloader_ = DataLoader(trainDataset_,\n",
        "                        shuffle=False,\n",
        "                        num_workers=1,\n",
        "                        batch_size=10)\n",
        "\n",
        "test_dataloader_ = DataLoader(testDataset_,\n",
        "                        shuffle=False,\n",
        "                        num_workers=1,\n",
        "                        batch_size=10)"
      ],
      "execution_count": 0,
      "outputs": []
    },
    {
      "cell_type": "code",
      "metadata": {
        "id": "HAHW1DUCuwnQ",
        "colab_type": "code",
        "colab": {}
      },
      "source": [
        "### Setting Training Data\n",
        "indexes = list(range(NUM_TRAIN_SAMPLES))\n",
        "\n",
        "trainImgList = []\n",
        "trainLabelList = []\n",
        "\n",
        "for i in range(len(indexes)):\n",
        "    x, y = trainDataset_[indexes[i]]\n",
        "    trainImgList.append(x)\n",
        "    trainLabelList.append(y)\n",
        "    trainImgList[i] = trainImgList[i].cuda().unsqueeze(0)"
      ],
      "execution_count": 0,
      "outputs": []
    },
    {
      "cell_type": "markdown",
      "metadata": {
        "id": "q2_VYXc_vUET",
        "colab_type": "text"
      },
      "source": [
        "#### Training Loop"
      ]
    },
    {
      "cell_type": "code",
      "metadata": {
        "id": "35idP2MAuwfb",
        "colab_type": "code",
        "outputId": "98d63bf7-112d-4025-f5b5-e73d6f2b3e4e",
        "colab": {
          "base_uri": "https://localhost:8080/",
          "height": 714
        }
      },
      "source": [
        "for epoch in tqdm(range(5)):\n",
        "    for i in range(STEPS_PER_EPOCH):\n",
        "        selectIndex = np.random.choice(list(range(len(indexes))),2, replace = False)\n",
        "        img1, img2 = trainImgList[selectIndex[0]], trainImgList[selectIndex[1]]\n",
        "\n",
        "        label1,label2 = trainLabelList[selectIndex[0]], trainLabelList[selectIndex[1]]\n",
        "\n",
        "        target_label = int(label1 == label2)\n",
        "        label = torch.FloatTensor([target_label]).cuda()\n",
        "\n",
        "        img1, img2, label = img1.cuda(), img2.cuda(), label.cuda()\n",
        "\n",
        "        # dist_, loss_ = compareDist(net, criterion, img1, img2, label, printOutput=False)\n",
        "\n",
        "        net.train()\n",
        "        optimizer.zero_grad()\n",
        "        output1,output2 = net(img1,img2)\n",
        "        loss_contrastive = criterion(output1,output2,label)\n",
        "        loss_contrastive.backward()\n",
        "        optimizer.step()\n",
        "        # scheduler.step()\n",
        "\n",
        "        # dist, loss = compareDist(net, criterion, img1, img2, label, printOutput=False)\n",
        "        # print(f\"Indexes : [{selectIndex[0]},{selectIndex[1]}] Label : {int(label)} Old dist : {np.round(dist_,4)} New dist : {np.round(dist,4)}\")\n",
        "\n",
        "    # testAcc = testModel(net,imgList, labelList, testDataset_)\n",
        "    trainAcc = testModel_(net,trainImgList, trainLabelList)\n",
        "\n",
        "    print(f\"Train Acc : {trainAcc}\")\n"
      ],
      "execution_count": 45,
      "outputs": [
        {
          "output_type": "stream",
          "text": [
            "  0%|          | 0/5 [00:00<?, ?it/s]\n",
            "  0%|          | 0/400 [00:00<?, ?it/s]\u001b[A\n",
            " 21%|██▏       | 85/400 [00:00<00:00, 848.06it/s]\u001b[A\n",
            " 40%|████      | 160/400 [00:00<00:00, 815.28it/s]\u001b[A\n",
            " 60%|██████    | 242/400 [00:00<00:00, 816.06it/s]\u001b[A\n",
            " 79%|███████▉  | 317/400 [00:00<00:00, 791.70it/s]\u001b[A\n",
            "100%|██████████| 400/400 [00:00<00:00, 770.91it/s]\n",
            " 20%|██        | 1/5 [00:04<00:16,  4.04s/it]"
          ],
          "name": "stderr"
        },
        {
          "output_type": "stream",
          "text": [
            "Train Acc : 0.9725\n"
          ],
          "name": "stdout"
        },
        {
          "output_type": "stream",
          "text": [
            "\n",
            "  0%|          | 0/400 [00:00<?, ?it/s]\u001b[A\n",
            " 20%|█▉        | 79/400 [00:00<00:00, 785.11it/s]\u001b[A\n",
            " 40%|████      | 161/400 [00:00<00:00, 795.12it/s]\u001b[A\n",
            " 61%|██████    | 243/400 [00:00<00:00, 802.00it/s]\u001b[A\n",
            " 78%|███████▊  | 314/400 [00:00<00:00, 771.48it/s]\u001b[A\n",
            "100%|██████████| 400/400 [00:00<00:00, 783.07it/s]\n",
            " 40%|████      | 2/5 [00:07<00:11,  3.99s/it]"
          ],
          "name": "stderr"
        },
        {
          "output_type": "stream",
          "text": [
            "Train Acc : 0.9725\n"
          ],
          "name": "stdout"
        },
        {
          "output_type": "stream",
          "text": [
            "\n",
            "  0%|          | 0/400 [00:00<?, ?it/s]\u001b[A\n",
            " 20%|█▉        | 78/400 [00:00<00:00, 775.05it/s]\u001b[A\n",
            " 38%|███▊      | 153/400 [00:00<00:00, 766.25it/s]\u001b[A\n",
            " 58%|█████▊    | 232/400 [00:00<00:00, 770.60it/s]\u001b[A\n",
            " 78%|███████▊  | 314/400 [00:00<00:00, 782.65it/s]\u001b[A\n",
            "100%|██████████| 400/400 [00:00<00:00, 760.40it/s]\n",
            " 60%|██████    | 3/5 [00:11<00:07,  3.96s/it]"
          ],
          "name": "stderr"
        },
        {
          "output_type": "stream",
          "text": [
            "Train Acc : 0.96\n"
          ],
          "name": "stdout"
        },
        {
          "output_type": "stream",
          "text": [
            "\n",
            "  0%|          | 0/400 [00:00<?, ?it/s]\u001b[A\n",
            " 21%|██        | 84/400 [00:00<00:00, 832.73it/s]\u001b[A\n",
            " 42%|████▏     | 166/400 [00:00<00:00, 826.49it/s]\u001b[A\n",
            " 60%|█████▉    | 238/400 [00:00<00:00, 788.16it/s]\u001b[A\n",
            " 80%|████████  | 320/400 [00:00<00:00, 794.95it/s]\u001b[A\n",
            "100%|██████████| 400/400 [00:00<00:00, 778.00it/s]\n",
            " 80%|████████  | 4/5 [00:15<00:03,  3.98s/it]"
          ],
          "name": "stderr"
        },
        {
          "output_type": "stream",
          "text": [
            "Train Acc : 0.9625\n"
          ],
          "name": "stdout"
        },
        {
          "output_type": "stream",
          "text": [
            "\n",
            "  0%|          | 0/400 [00:00<?, ?it/s]\u001b[A\n",
            " 18%|█▊        | 74/400 [00:00<00:00, 739.62it/s]\u001b[A\n",
            " 38%|███▊      | 152/400 [00:00<00:00, 749.59it/s]\u001b[A\n",
            " 57%|█████▊    | 230/400 [00:00<00:00, 757.10it/s]\u001b[A\n",
            " 78%|███████▊  | 314/400 [00:00<00:00, 778.77it/s]\u001b[A\n",
            "100%|██████████| 400/400 [00:00<00:00, 763.88it/s]\n",
            "100%|██████████| 5/5 [00:19<00:00,  3.94s/it]"
          ],
          "name": "stderr"
        },
        {
          "output_type": "stream",
          "text": [
            "Train Acc : 0.965\n"
          ],
          "name": "stdout"
        },
        {
          "output_type": "stream",
          "text": [
            "\n"
          ],
          "name": "stderr"
        }
      ]
    },
    {
      "cell_type": "markdown",
      "metadata": {
        "id": "NnOCLH9iv8uG",
        "colab_type": "text"
      },
      "source": [
        "#### **Evaluation**"
      ]
    },
    {
      "cell_type": "code",
      "metadata": {
        "id": "j9Ce3rnMvq0-",
        "colab_type": "code",
        "outputId": "e0c9d129-173e-4bd7-cbe2-066912b46d0a",
        "colab": {
          "base_uri": "https://localhost:8080/",
          "height": 303
        }
      },
      "source": [
        "getCDDistribution(net, trainImgList, trainLabelList)"
      ],
      "execution_count": 46,
      "outputs": [
        {
          "output_type": "stream",
          "text": [
            "(400, 100)\n",
            "Variance Explained : 0.752348780632019\n"
          ],
          "name": "stdout"
        },
        {
          "output_type": "display_data",
          "data": {
            "image/png": "[encoded data removed]",
            "text/plain": [
              "<Figure size 432x288 with 1 Axes>"
            ]
          },
          "metadata": {
            "tags": [],
            "needs_background": "light"
          }
        }
      ]
    },
    {
      "cell_type": "code",
      "metadata": {
        "id": "8T_nmBKPwBHR",
        "colab_type": "code",
        "outputId": "fc4dcd11-eefe-4907-f4a2-66872610a411",
        "colab": {
          "base_uri": "https://localhost:8080/",
          "height": 68
        }
      },
      "source": [
        "testAcc = testModel(net,trainImgList, trainLabelList, testDataset_)\n",
        "trainAcc = testModel_(net,trainImgList, trainLabelList)\n",
        "\n",
        "print(f\"Train Acc : {trainAcc} Test Acc : {testAcc}\")\n"
      ],
      "execution_count": 47,
      "outputs": [
        {
          "output_type": "stream",
          "text": [
            "100%|██████████| 1000/1000 [00:11<00:00, 86.22it/s]\n",
            "100%|██████████| 400/400 [00:00<00:00, 734.18it/s]"
          ],
          "name": "stderr"
        },
        {
          "output_type": "stream",
          "text": [
            "Train Acc : 0.965 Test Acc : 0.616\n"
          ],
          "name": "stdout"
        },
        {
          "output_type": "stream",
          "text": [
            "\n"
          ],
          "name": "stderr"
        }
      ]
    },
    {
      "cell_type": "code",
      "metadata": {
        "id": "-KjczHG74IDq",
        "colab_type": "code",
        "colab": {}
      },
      "source": [
        ""
      ],
      "execution_count": 0,
      "outputs": []
    },
    {
      "cell_type": "markdown",
      "metadata": {
        "id": "KZ5fmA3DIg9A",
        "colab_type": "text"
      },
      "source": [
        "### **Resnet18 Siamese**"
      ]
    },
    {
      "cell_type": "code",
      "metadata": {
        "id": "kBbuazWjI5QK",
        "colab_type": "code",
        "colab": {}
      },
      "source": [
        "NUM_TRAIN_SAMPLES = 400\n",
        "NUM_TEST_SAMPLES = 1000\n",
        "STEPS_PER_EPOCH = 250\n",
        "NUM_EPOCHS = 3\n",
        "EMBEDDING_SIZE = 100"
      ],
      "execution_count": 0,
      "outputs": []
    },
    {
      "cell_type": "markdown",
      "metadata": {
        "id": "dFE73dHjIpfz",
        "colab_type": "text"
      },
      "source": [
        "#### Network Definition"
      ]
    },
    {
      "cell_type": "code",
      "metadata": {
        "id": "31HafpkYIs66",
        "colab_type": "code",
        "colab": {}
      },
      "source": [
        "net = resnetSiamese(arch = 'resnet18', pretrained = True)\n",
        "\n",
        "net = net.cuda()"
      ],
      "execution_count": 0,
      "outputs": []
    },
    {
      "cell_type": "markdown",
      "metadata": {
        "id": "VUAXBoeNI7Ha",
        "colab_type": "text"
      },
      "source": [
        "#### Defining Datasets"
      ]
    },
    {
      "cell_type": "code",
      "metadata": {
        "id": "giRq1vBJIxyU",
        "colab_type": "code",
        "colab": {}
      },
      "source": [
        "trainDf,testDf = load_data(train_size = NUM_TRAIN_SAMPLES, test_size = NUM_TEST_SAMPLES)\n",
        "\n",
        "trainDataset = SiameseDataset(trainDf, prob = 0.5, transform=train_transform)\n",
        "\n",
        "trainDataset_ = ImageDataset(trainDf, transform = train_transform)\n",
        "testDataset_ = ImageDataset(testDf, transform = test_transform, classMap = trainDataset_.classMap, classMap_= trainDataset_.classMap_)\n",
        "\n",
        "train_dataloader = DataLoader(trainDataset,\n",
        "                        shuffle=True,\n",
        "                        num_workers=1,\n",
        "                        batch_size=10)\n",
        "\n",
        "train_dataloader_ = DataLoader(trainDataset_,\n",
        "                        shuffle=False,\n",
        "                        num_workers=1,\n",
        "                        batch_size=10)\n",
        "\n",
        "test_dataloader_ = DataLoader(testDataset_,\n",
        "                        shuffle=False,\n",
        "                        num_workers=1,\n",
        "                        batch_size=10)"
      ],
      "execution_count": 0,
      "outputs": []
    },
    {
      "cell_type": "markdown",
      "metadata": {
        "id": "qLqyA3u5JQqG",
        "colab_type": "text"
      },
      "source": [
        "#### **Training Loop**"
      ]
    },
    {
      "cell_type": "code",
      "metadata": {
        "id": "SRU_004tJPZJ",
        "colab_type": "code",
        "colab": {
          "base_uri": "https://localhost:8080/",
          "height": 564
        },
        "outputId": "65dbbc14-d17a-4647-e57d-4cab401eb506"
      },
      "source": [
        "optimizer = torch.optim.Adam(filter(lambda p: p.requires_grad, net.parameters()) ,lr = 0.00001 )\n",
        "\n",
        "\n",
        "net.train()\n",
        "\n",
        "for epoch in range(NUM_EPOCHS):\n",
        "    epoch_loss = []\n",
        "    support, labels = getSupport(net, train_dataloader_)\n",
        "    getDistribution(support, labels)\n",
        "    plt.show()\n",
        "\n",
        "    for i, data in enumerate(train_dataloader,0):\n",
        "        img0, img1 , label = data\n",
        "        img0, img1 , label = img0.cuda(), img1.cuda() , label.cuda()\n",
        " \n",
        "        optimizer.zero_grad()\n",
        "        output1,output2 = net(img0,img1)\n",
        "        loss_contrastive = criterion(output1,output2,label)\n",
        "        loss_contrastive.backward()\n",
        "        optimizer.step()\n",
        "\n",
        "        epoch_loss.append(loss_contrastive.item())\n",
        "\n",
        "\n",
        "    print(f\"Epoch Loss : {np.mean(epoch_loss)}\")\n",
        "\n",
        "\n",
        "support, labels = getSupport(net, train_dataloader_)\n",
        "getDistribution(support, labels)\n",
        "plt.show()\n",
        "\n",
        "    "
      ],
      "execution_count": 66,
      "outputs": [
        {
          "output_type": "stream",
          "text": [
            "Variance Explained : 0.14592072367668152\n"
          ],
          "name": "stdout"
        },
        {
          "output_type": "display_data",
          "data": {
            "image/png": "[encoded data removed]",
            "text/plain": [
              "<Figure size 432x288 with 1 Axes>"
            ]
          },
          "metadata": {
            "tags": [],
            "needs_background": "light"
          }
        },
        {
          "output_type": "stream",
          "text": [
            "Epoch Loss : 0.025086282729171218\n",
            "Variance Explained : 0.2907048761844635\n"
          ],
          "name": "stdout"
        },
        {
          "output_type": "display_data",
          "data": {
            "image/png": "[encoded data removed]",
            "text/plain": [
              "<Figure size 432x288 with 1 Axes>"
            ]
          },
          "metadata": {
            "tags": [],
            "needs_background": "light"
          }
        }
      ]
    },
    {
      "cell_type": "code",
      "metadata": {
        "id": "UJnD7bcNJXxb",
        "colab_type": "code",
        "colab": {
          "base_uri": "https://localhost:8080/",
          "height": 51
        },
        "outputId": "5fcb1121-29f4-424c-be52-2c6bdc807a7c"
      },
      "source": [
        "pred, label = getPred(net, train_dataloader_, testDataset_, metric ='cosine')\n",
        "\n",
        "accuracy_score(label, pred)"
      ],
      "execution_count": 67,
      "outputs": [
        {
          "output_type": "stream",
          "text": [
            "100%|██████████| 1000/1000 [00:27<00:00, 37.00it/s]\n"
          ],
          "name": "stderr"
        },
        {
          "output_type": "execute_result",
          "data": {
            "text/plain": [
              "0.976"
            ]
          },
          "metadata": {
            "tags": []
          },
          "execution_count": 67
        }
      ]
    },
    {
      "cell_type": "markdown",
      "metadata": {
        "id": "LZY3zoqDMDNB",
        "colab_type": "text"
      },
      "source": [
        "### Resnet18 CNN"
      ]
    },
    {
      "cell_type": "code",
      "metadata": {
        "id": "zOJAbxt0L3MI",
        "colab_type": "code",
        "colab": {}
      },
      "source": [
        "NUM_TRAIN_SAMPLES = 400\n",
        "NUM_TEST_SAMPLES = 1000\n",
        "STEPS_PER_EPOCH = 250\n",
        "NUM_EPOCHS = 30"
      ],
      "execution_count": 0,
      "outputs": []
    },
    {
      "cell_type": "markdown",
      "metadata": {
        "id": "1rn9SstqMKwV",
        "colab_type": "text"
      },
      "source": [
        "#### Network Definition"
      ]
    },
    {
      "cell_type": "code",
      "metadata": {
        "id": "hmeDEGtWMMpZ",
        "colab_type": "code",
        "colab": {}
      },
      "source": [
        "#Resnet\n",
        "net = torchvision.models.resnet.resnet18(pretrained = True)\n",
        "for param in net.parameters():\n",
        "    param.requires_grad = False\n",
        "\n",
        "net.fc = nn.Linear(512,2)\n",
        "\n",
        "net = net.cuda()"
      ],
      "execution_count": 0,
      "outputs": []
    },
    {
      "cell_type": "markdown",
      "metadata": {
        "id": "tXrEH0fHMSuf",
        "colab_type": "text"
      },
      "source": [
        "#### Defining Datasets"
      ]
    },
    {
      "cell_type": "code",
      "metadata": {
        "id": "RglkPw8vMQWs",
        "colab_type": "code",
        "colab": {}
      },
      "source": [
        "trainDf,testDf = load_data(train_size = NUM_TRAIN_SAMPLES, test_size = NUM_TEST_SAMPLES)\n",
        "\n",
        "trainDataset = ImageDataset(trainDf, transform = train_transform)\n",
        "testDataset = ImageDataset(testDf, transform = train_transform, classMap = trainDataset.classMap, classMap_=trainDataset.classMap_)\n",
        "\n",
        "train_dataloader = DataLoader(trainDataset,\n",
        "                        shuffle=False,\n",
        "                        num_workers=1,\n",
        "                        batch_size=10)\n",
        "test_dataloader = DataLoader(testDataset,\n",
        "                        shuffle=False,\n",
        "                        num_workers=1,\n",
        "                        batch_size=10)\n",
        "\n"
      ],
      "execution_count": 0,
      "outputs": []
    },
    {
      "cell_type": "markdown",
      "metadata": {
        "id": "Ko1vyS40Mj8b",
        "colab_type": "text"
      },
      "source": [
        "#### **Training Loop**"
      ]
    },
    {
      "cell_type": "code",
      "metadata": {
        "id": "7LB5QgpmMepw",
        "colab_type": "code",
        "colab": {
          "base_uri": "https://localhost:8080/",
          "height": 187
        },
        "outputId": "38e048a6-f967-4ecc-dc35-02225132d4fb"
      },
      "source": [
        "criterion = nn.CrossEntropyLoss()\n",
        "optimizer = torch.optim.Adam(filter(lambda p: p.requires_grad, net.parameters()) ,lr = 0.00001 )\n",
        "\n",
        "net.train()\n",
        "\n",
        "for epoch in range(0,NUM_EPOCHS):\n",
        "    epoch_loss = []\n",
        "   \n",
        "    net.train()\n",
        "    \n",
        "\n",
        "    for i, data in enumerate(train_dataloader):\n",
        "        img, label = data\n",
        "        img, label = img.cuda() , label.cuda()\n",
        " \n",
        "        optimizer.zero_grad()\n",
        "        output = net(img)\n",
        "        loss = criterion(output,label)\n",
        "        loss.backward()\n",
        "        optimizer.step()\n",
        "\n",
        "        epoch_loss.append(loss.item())\n",
        "\n",
        "    labels,preds = predictModel(net, test_dataloader)\n",
        "    acc = accuracy_score(labels, preds)\n",
        "\n",
        "    print(f\"Epoch Loss : {np.mean(epoch_loss)} Val Acc : {np.round(acc,3)}\")\n",
        "    \n",
        "    \n",
        "\n",
        "\n",
        "# support, labels = getSupport(net, train_dataloader_)\n",
        "# getDistribution(support, labels)\n",
        "# plt.show()\n",
        "\n",
        "    "
      ],
      "execution_count": 80,
      "outputs": [
        {
          "output_type": "stream",
          "text": [
            "Epoch Loss : 0.5223360322415829 Val Acc : 0.824\n",
            "Epoch Loss : 0.5066586516797542 Val Acc : 0.851\n",
            "Epoch Loss : 0.5040842168033123 Val Acc : 0.851\n",
            "Epoch Loss : 0.5001017026603222 Val Acc : 0.861\n",
            "Epoch Loss : 0.48609235808253287 Val Acc : 0.869\n",
            "Epoch Loss : 0.4758606366813183 Val Acc : 0.875\n",
            "Epoch Loss : 0.4699165552854538 Val Acc : 0.884\n",
            "Epoch Loss : 0.4705142594873905 Val Acc : 0.884\n",
            "Epoch Loss : 0.4591732405126095 Val Acc : 0.892\n",
            "Epoch Loss : 0.44819404631853105 Val Acc : 0.897\n"
          ],
          "name": "stdout"
        }
      ]
    },
    {
      "cell_type": "code",
      "metadata": {
        "id": "NvSbXW97M1Pc",
        "colab_type": "code",
        "colab": {}
      },
      "source": [
        ""
      ],
      "execution_count": 0,
      "outputs": []
    }
  ]
}