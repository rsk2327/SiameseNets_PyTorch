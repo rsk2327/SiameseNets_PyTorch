{
  "nbformat": 4,
  "nbformat_minor": 0,
  "metadata": {
    "colab": {
      "name": "MNIST_Siamese.ipynb",
      "provenance": [],
      "collapsed_sections": [],
      "toc_visible": true
    },
    "kernelspec": {
      "name": "python3",
      "display_name": "Python 3"
    },
    "accelerator": "GPU",
    "widgets": {
      "application/vnd.jupyter.widget-state+json": {
        "f9deda1792054a899971eca0a75f6b4d": {
          "model_module": "@jupyter-widgets/controls",
          "model_name": "HBoxModel",
          "state": {
            "_view_name": "HBoxView",
            "_dom_classes": [],
            "_model_name": "HBoxModel",
            "_view_module": "@jupyter-widgets/controls",
            "_model_module_version": "1.5.0",
            "_view_count": null,
            "_view_module_version": "1.5.0",
            "box_style": "",
            "layout": "IPY_MODEL_aea330658371424ea47f999e8caa2928",
            "_model_module": "@jupyter-widgets/controls",
            "children": [
              "IPY_MODEL_bc8792eaf10e42ea93e4ecf554ad2ba3",
              "IPY_MODEL_29f346d2e4244da2bfd0b540a3d45dc3"
            ]
          }
        },
        "aea330658371424ea47f999e8caa2928": {
          "model_module": "@jupyter-widgets/base",
          "model_name": "LayoutModel",
          "state": {
            "_view_name": "LayoutView",
            "grid_template_rows": null,
            "right": null,
            "justify_content": null,
            "_view_module": "@jupyter-widgets/base",
            "overflow": null,
            "_model_module_version": "1.2.0",
            "_view_count": null,
            "flex_flow": null,
            "width": null,
            "min_width": null,
            "border": null,
            "align_items": null,
            "bottom": null,
            "_model_module": "@jupyter-widgets/base",
            "top": null,
            "grid_column": null,
            "overflow_y": null,
            "overflow_x": null,
            "grid_auto_flow": null,
            "grid_area": null,
            "grid_template_columns": null,
            "flex": null,
            "_model_name": "LayoutModel",
            "justify_items": null,
            "grid_row": null,
            "max_height": null,
            "align_content": null,
            "visibility": null,
            "align_self": null,
            "height": null,
            "min_height": null,
            "padding": null,
            "grid_auto_rows": null,
            "grid_gap": null,
            "max_width": null,
            "order": null,
            "_view_module_version": "1.2.0",
            "grid_template_areas": null,
            "object_position": null,
            "object_fit": null,
            "grid_auto_columns": null,
            "margin": null,
            "display": null,
            "left": null
          }
        },
        "bc8792eaf10e42ea93e4ecf554ad2ba3": {
          "model_module": "@jupyter-widgets/controls",
          "model_name": "IntProgressModel",
          "state": {
            "_view_name": "ProgressView",
            "style": "IPY_MODEL_ccfcaeebc26a4d81aa109db3c2b530ee",
            "_dom_classes": [],
            "description": "",
            "_model_name": "IntProgressModel",
            "bar_style": "info",
            "max": 1,
            "_view_module": "@jupyter-widgets/controls",
            "_model_module_version": "1.5.0",
            "value": 1,
            "_view_count": null,
            "_view_module_version": "1.5.0",
            "orientation": "horizontal",
            "min": 0,
            "description_tooltip": null,
            "_model_module": "@jupyter-widgets/controls",
            "layout": "IPY_MODEL_a9685515a71c44a5a08db6ba761158c6"
          }
        },
        "29f346d2e4244da2bfd0b540a3d45dc3": {
          "model_module": "@jupyter-widgets/controls",
          "model_name": "HTMLModel",
          "state": {
            "_view_name": "HTMLView",
            "style": "IPY_MODEL_f2b33eeda9c74c4d9aa49cbd29e2ea7c",
            "_dom_classes": [],
            "description": "",
            "_model_name": "HTMLModel",
            "placeholder": "​",
            "_view_module": "@jupyter-widgets/controls",
            "_model_module_version": "1.5.0",
            "value": " 9920512/? [00:19&lt;00:00, 2526180.22it/s]",
            "_view_count": null,
            "_view_module_version": "1.5.0",
            "description_tooltip": null,
            "_model_module": "@jupyter-widgets/controls",
            "layout": "IPY_MODEL_d97c0e422e25462e976f29698446001a"
          }
        },
        "ccfcaeebc26a4d81aa109db3c2b530ee": {
          "model_module": "@jupyter-widgets/controls",
          "model_name": "ProgressStyleModel",
          "state": {
            "_view_name": "StyleView",
            "_model_name": "ProgressStyleModel",
            "description_width": "initial",
            "_view_module": "@jupyter-widgets/base",
            "_model_module_version": "1.5.0",
            "_view_count": null,
            "_view_module_version": "1.2.0",
            "bar_color": null,
            "_model_module": "@jupyter-widgets/controls"
          }
        },
        "a9685515a71c44a5a08db6ba761158c6": {
          "model_module": "@jupyter-widgets/base",
          "model_name": "LayoutModel",
          "state": {
            "_view_name": "LayoutView",
            "grid_template_rows": null,
            "right": null,
            "justify_content": null,
            "_view_module": "@jupyter-widgets/base",
            "overflow": null,
            "_model_module_version": "1.2.0",
            "_view_count": null,
            "flex_flow": null,
            "width": null,
            "min_width": null,
            "border": null,
            "align_items": null,
            "bottom": null,
            "_model_module": "@jupyter-widgets/base",
            "top": null,
            "grid_column": null,
            "overflow_y": null,
            "overflow_x": null,
            "grid_auto_flow": null,
            "grid_area": null,
            "grid_template_columns": null,
            "flex": null,
            "_model_name": "LayoutModel",
            "justify_items": null,
            "grid_row": null,
            "max_height": null,
            "align_content": null,
            "visibility": null,
            "align_self": null,
            "height": null,
            "min_height": null,
            "padding": null,
            "grid_auto_rows": null,
            "grid_gap": null,
            "max_width": null,
            "order": null,
            "_view_module_version": "1.2.0",
            "grid_template_areas": null,
            "object_position": null,
            "object_fit": null,
            "grid_auto_columns": null,
            "margin": null,
            "display": null,
            "left": null
          }
        },
        "f2b33eeda9c74c4d9aa49cbd29e2ea7c": {
          "model_module": "@jupyter-widgets/controls",
          "model_name": "DescriptionStyleModel",
          "state": {
            "_view_name": "StyleView",
            "_model_name": "DescriptionStyleModel",
            "description_width": "",
            "_view_module": "@jupyter-widgets/base",
            "_model_module_version": "1.5.0",
            "_view_count": null,
            "_view_module_version": "1.2.0",
            "_model_module": "@jupyter-widgets/controls"
          }
        },
        "d97c0e422e25462e976f29698446001a": {
          "model_module": "@jupyter-widgets/base",
          "model_name": "LayoutModel",
          "state": {
            "_view_name": "LayoutView",
            "grid_template_rows": null,
            "right": null,
            "justify_content": null,
            "_view_module": "@jupyter-widgets/base",
            "overflow": null,
            "_model_module_version": "1.2.0",
            "_view_count": null,
            "flex_flow": null,
            "width": null,
            "min_width": null,
            "border": null,
            "align_items": null,
            "bottom": null,
            "_model_module": "@jupyter-widgets/base",
            "top": null,
            "grid_column": null,
            "overflow_y": null,
            "overflow_x": null,
            "grid_auto_flow": null,
            "grid_area": null,
            "grid_template_columns": null,
            "flex": null,
            "_model_name": "LayoutModel",
            "justify_items": null,
            "grid_row": null,
            "max_height": null,
            "align_content": null,
            "visibility": null,
            "align_self": null,
            "height": null,
            "min_height": null,
            "padding": null,
            "grid_auto_rows": null,
            "grid_gap": null,
            "max_width": null,
            "order": null,
            "_view_module_version": "1.2.0",
            "grid_template_areas": null,
            "object_position": null,
            "object_fit": null,
            "grid_auto_columns": null,
            "margin": null,
            "display": null,
            "left": null
          }
        },
        "4fe98606b34a4aec80fa83fb61af15ce": {
          "model_module": "@jupyter-widgets/controls",
          "model_name": "HBoxModel",
          "state": {
            "_view_name": "HBoxView",
            "_dom_classes": [],
            "_model_name": "HBoxModel",
            "_view_module": "@jupyter-widgets/controls",
            "_model_module_version": "1.5.0",
            "_view_count": null,
            "_view_module_version": "1.5.0",
            "box_style": "",
            "layout": "IPY_MODEL_dcfc226e88234db0a0dc2bb0fbec31e9",
            "_model_module": "@jupyter-widgets/controls",
            "children": [
              "IPY_MODEL_e68ae8c4702d411b936c13613d9a2c7f",
              "IPY_MODEL_ef3f008b31f24126917be05022d7b9a0"
            ]
          }
        },
        "dcfc226e88234db0a0dc2bb0fbec31e9": {
          "model_module": "@jupyter-widgets/base",
          "model_name": "LayoutModel",
          "state": {
            "_view_name": "LayoutView",
            "grid_template_rows": null,
            "right": null,
            "justify_content": null,
            "_view_module": "@jupyter-widgets/base",
            "overflow": null,
            "_model_module_version": "1.2.0",
            "_view_count": null,
            "flex_flow": null,
            "width": null,
            "min_width": null,
            "border": null,
            "align_items": null,
            "bottom": null,
            "_model_module": "@jupyter-widgets/base",
            "top": null,
            "grid_column": null,
            "overflow_y": null,
            "overflow_x": null,
            "grid_auto_flow": null,
            "grid_area": null,
            "grid_template_columns": null,
            "flex": null,
            "_model_name": "LayoutModel",
            "justify_items": null,
            "grid_row": null,
            "max_height": null,
            "align_content": null,
            "visibility": null,
            "align_self": null,
            "height": null,
            "min_height": null,
            "padding": null,
            "grid_auto_rows": null,
            "grid_gap": null,
            "max_width": null,
            "order": null,
            "_view_module_version": "1.2.0",
            "grid_template_areas": null,
            "object_position": null,
            "object_fit": null,
            "grid_auto_columns": null,
            "margin": null,
            "display": null,
            "left": null
          }
        },
        "e68ae8c4702d411b936c13613d9a2c7f": {
          "model_module": "@jupyter-widgets/controls",
          "model_name": "IntProgressModel",
          "state": {
            "_view_name": "ProgressView",
            "style": "IPY_MODEL_29c8d1ea0e924513a3172e6aa82eb80c",
            "_dom_classes": [],
            "description": "",
            "_model_name": "IntProgressModel",
            "bar_style": "success",
            "max": 1,
            "_view_module": "@jupyter-widgets/controls",
            "_model_module_version": "1.5.0",
            "value": 1,
            "_view_count": null,
            "_view_module_version": "1.5.0",
            "orientation": "horizontal",
            "min": 0,
            "description_tooltip": null,
            "_model_module": "@jupyter-widgets/controls",
            "layout": "IPY_MODEL_fd0a5b22ad8940d0bac7eb11b07a3584"
          }
        },
        "ef3f008b31f24126917be05022d7b9a0": {
          "model_module": "@jupyter-widgets/controls",
          "model_name": "HTMLModel",
          "state": {
            "_view_name": "HTMLView",
            "style": "IPY_MODEL_28db2ab2a7e84fa7933cefa16eab286b",
            "_dom_classes": [],
            "description": "",
            "_model_name": "HTMLModel",
            "placeholder": "​",
            "_view_module": "@jupyter-widgets/controls",
            "_model_module_version": "1.5.0",
            "value": " 32768/? [00:01&lt;00:00, 16455.27it/s]",
            "_view_count": null,
            "_view_module_version": "1.5.0",
            "description_tooltip": null,
            "_model_module": "@jupyter-widgets/controls",
            "layout": "IPY_MODEL_04c52ff91575408e9d22fcd5e5b92c51"
          }
        },
        "29c8d1ea0e924513a3172e6aa82eb80c": {
          "model_module": "@jupyter-widgets/controls",
          "model_name": "ProgressStyleModel",
          "state": {
            "_view_name": "StyleView",
            "_model_name": "ProgressStyleModel",
            "description_width": "initial",
            "_view_module": "@jupyter-widgets/base",
            "_model_module_version": "1.5.0",
            "_view_count": null,
            "_view_module_version": "1.2.0",
            "bar_color": null,
            "_model_module": "@jupyter-widgets/controls"
          }
        },
        "fd0a5b22ad8940d0bac7eb11b07a3584": {
          "model_module": "@jupyter-widgets/base",
          "model_name": "LayoutModel",
          "state": {
            "_view_name": "LayoutView",
            "grid_template_rows": null,
            "right": null,
            "justify_content": null,
            "_view_module": "@jupyter-widgets/base",
            "overflow": null,
            "_model_module_version": "1.2.0",
            "_view_count": null,
            "flex_flow": null,
            "width": null,
            "min_width": null,
            "border": null,
            "align_items": null,
            "bottom": null,
            "_model_module": "@jupyter-widgets/base",
            "top": null,
            "grid_column": null,
            "overflow_y": null,
            "overflow_x": null,
            "grid_auto_flow": null,
            "grid_area": null,
            "grid_template_columns": null,
            "flex": null,
            "_model_name": "LayoutModel",
            "justify_items": null,
            "grid_row": null,
            "max_height": null,
            "align_content": null,
            "visibility": null,
            "align_self": null,
            "height": null,
            "min_height": null,
            "padding": null,
            "grid_auto_rows": null,
            "grid_gap": null,
            "max_width": null,
            "order": null,
            "_view_module_version": "1.2.0",
            "grid_template_areas": null,
            "object_position": null,
            "object_fit": null,
            "grid_auto_columns": null,
            "margin": null,
            "display": null,
            "left": null
          }
        },
        "28db2ab2a7e84fa7933cefa16eab286b": {
          "model_module": "@jupyter-widgets/controls",
          "model_name": "DescriptionStyleModel",
          "state": {
            "_view_name": "StyleView",
            "_model_name": "DescriptionStyleModel",
            "description_width": "",
            "_view_module": "@jupyter-widgets/base",
            "_model_module_version": "1.5.0",
            "_view_count": null,
            "_view_module_version": "1.2.0",
            "_model_module": "@jupyter-widgets/controls"
          }
        },
        "04c52ff91575408e9d22fcd5e5b92c51": {
          "model_module": "@jupyter-widgets/base",
          "model_name": "LayoutModel",
          "state": {
            "_view_name": "LayoutView",
            "grid_template_rows": null,
            "right": null,
            "justify_content": null,
            "_view_module": "@jupyter-widgets/base",
            "overflow": null,
            "_model_module_version": "1.2.0",
            "_view_count": null,
            "flex_flow": null,
            "width": null,
            "min_width": null,
            "border": null,
            "align_items": null,
            "bottom": null,
            "_model_module": "@jupyter-widgets/base",
            "top": null,
            "grid_column": null,
            "overflow_y": null,
            "overflow_x": null,
            "grid_auto_flow": null,
            "grid_area": null,
            "grid_template_columns": null,
            "flex": null,
            "_model_name": "LayoutModel",
            "justify_items": null,
            "grid_row": null,
            "max_height": null,
            "align_content": null,
            "visibility": null,
            "align_self": null,
            "height": null,
            "min_height": null,
            "padding": null,
            "grid_auto_rows": null,
            "grid_gap": null,
            "max_width": null,
            "order": null,
            "_view_module_version": "1.2.0",
            "grid_template_areas": null,
            "object_position": null,
            "object_fit": null,
            "grid_auto_columns": null,
            "margin": null,
            "display": null,
            "left": null
          }
        },
        "6d968c727d774166bed3682ae6b33e91": {
          "model_module": "@jupyter-widgets/controls",
          "model_name": "HBoxModel",
          "state": {
            "_view_name": "HBoxView",
            "_dom_classes": [],
            "_model_name": "HBoxModel",
            "_view_module": "@jupyter-widgets/controls",
            "_model_module_version": "1.5.0",
            "_view_count": null,
            "_view_module_version": "1.5.0",
            "box_style": "",
            "layout": "IPY_MODEL_3fcd9e220270405fbb62718fa4518b47",
            "_model_module": "@jupyter-widgets/controls",
            "children": [
              "IPY_MODEL_2a2c81b89da041378c17e4f9866ed142",
              "IPY_MODEL_5234bd5b881143c8830bcfbb9726213e"
            ]
          }
        },
        "3fcd9e220270405fbb62718fa4518b47": {
          "model_module": "@jupyter-widgets/base",
          "model_name": "LayoutModel",
          "state": {
            "_view_name": "LayoutView",
            "grid_template_rows": null,
            "right": null,
            "justify_content": null,
            "_view_module": "@jupyter-widgets/base",
            "overflow": null,
            "_model_module_version": "1.2.0",
            "_view_count": null,
            "flex_flow": null,
            "width": null,
            "min_width": null,
            "border": null,
            "align_items": null,
            "bottom": null,
            "_model_module": "@jupyter-widgets/base",
            "top": null,
            "grid_column": null,
            "overflow_y": null,
            "overflow_x": null,
            "grid_auto_flow": null,
            "grid_area": null,
            "grid_template_columns": null,
            "flex": null,
            "_model_name": "LayoutModel",
            "justify_items": null,
            "grid_row": null,
            "max_height": null,
            "align_content": null,
            "visibility": null,
            "align_self": null,
            "height": null,
            "min_height": null,
            "padding": null,
            "grid_auto_rows": null,
            "grid_gap": null,
            "max_width": null,
            "order": null,
            "_view_module_version": "1.2.0",
            "grid_template_areas": null,
            "object_position": null,
            "object_fit": null,
            "grid_auto_columns": null,
            "margin": null,
            "display": null,
            "left": null
          }
        },
        "2a2c81b89da041378c17e4f9866ed142": {
          "model_module": "@jupyter-widgets/controls",
          "model_name": "IntProgressModel",
          "state": {
            "_view_name": "ProgressView",
            "style": "IPY_MODEL_bad72609bd6a4cccae5007d008319f1f",
            "_dom_classes": [],
            "description": "",
            "_model_name": "IntProgressModel",
            "bar_style": "success",
            "max": 1,
            "_view_module": "@jupyter-widgets/controls",
            "_model_module_version": "1.5.0",
            "value": 1,
            "_view_count": null,
            "_view_module_version": "1.5.0",
            "orientation": "horizontal",
            "min": 0,
            "description_tooltip": null,
            "_model_module": "@jupyter-widgets/controls",
            "layout": "IPY_MODEL_7b4a0a8e717245668762caa7239cb36f"
          }
        },
        "5234bd5b881143c8830bcfbb9726213e": {
          "model_module": "@jupyter-widgets/controls",
          "model_name": "HTMLModel",
          "state": {
            "_view_name": "HTMLView",
            "style": "IPY_MODEL_7c58fab7fd2d404b967d99e0593edabc",
            "_dom_classes": [],
            "description": "",
            "_model_name": "HTMLModel",
            "placeholder": "​",
            "_view_module": "@jupyter-widgets/controls",
            "_model_module_version": "1.5.0",
            "value": " 1654784/? [00:01&lt;00:00, 988425.73it/s]",
            "_view_count": null,
            "_view_module_version": "1.5.0",
            "description_tooltip": null,
            "_model_module": "@jupyter-widgets/controls",
            "layout": "IPY_MODEL_0f12e62a641d4b08a6b5761033e8d564"
          }
        },
        "bad72609bd6a4cccae5007d008319f1f": {
          "model_module": "@jupyter-widgets/controls",
          "model_name": "ProgressStyleModel",
          "state": {
            "_view_name": "StyleView",
            "_model_name": "ProgressStyleModel",
            "description_width": "initial",
            "_view_module": "@jupyter-widgets/base",
            "_model_module_version": "1.5.0",
            "_view_count": null,
            "_view_module_version": "1.2.0",
            "bar_color": null,
            "_model_module": "@jupyter-widgets/controls"
          }
        },
        "7b4a0a8e717245668762caa7239cb36f": {
          "model_module": "@jupyter-widgets/base",
          "model_name": "LayoutModel",
          "state": {
            "_view_name": "LayoutView",
            "grid_template_rows": null,
            "right": null,
            "justify_content": null,
            "_view_module": "@jupyter-widgets/base",
            "overflow": null,
            "_model_module_version": "1.2.0",
            "_view_count": null,
            "flex_flow": null,
            "width": null,
            "min_width": null,
            "border": null,
            "align_items": null,
            "bottom": null,
            "_model_module": "@jupyter-widgets/base",
            "top": null,
            "grid_column": null,
            "overflow_y": null,
            "overflow_x": null,
            "grid_auto_flow": null,
            "grid_area": null,
            "grid_template_columns": null,
            "flex": null,
            "_model_name": "LayoutModel",
            "justify_items": null,
            "grid_row": null,
            "max_height": null,
            "align_content": null,
            "visibility": null,
            "align_self": null,
            "height": null,
            "min_height": null,
            "padding": null,
            "grid_auto_rows": null,
            "grid_gap": null,
            "max_width": null,
            "order": null,
            "_view_module_version": "1.2.0",
            "grid_template_areas": null,
            "object_position": null,
            "object_fit": null,
            "grid_auto_columns": null,
            "margin": null,
            "display": null,
            "left": null
          }
        },
        "7c58fab7fd2d404b967d99e0593edabc": {
          "model_module": "@jupyter-widgets/controls",
          "model_name": "DescriptionStyleModel",
          "state": {
            "_view_name": "StyleView",
            "_model_name": "DescriptionStyleModel",
            "description_width": "",
            "_view_module": "@jupyter-widgets/base",
            "_model_module_version": "1.5.0",
            "_view_count": null,
            "_view_module_version": "1.2.0",
            "_model_module": "@jupyter-widgets/controls"
          }
        },
        "0f12e62a641d4b08a6b5761033e8d564": {
          "model_module": "@jupyter-widgets/base",
          "model_name": "LayoutModel",
          "state": {
            "_view_name": "LayoutView",
            "grid_template_rows": null,
            "right": null,
            "justify_content": null,
            "_view_module": "@jupyter-widgets/base",
            "overflow": null,
            "_model_module_version": "1.2.0",
            "_view_count": null,
            "flex_flow": null,
            "width": null,
            "min_width": null,
            "border": null,
            "align_items": null,
            "bottom": null,
            "_model_module": "@jupyter-widgets/base",
            "top": null,
            "grid_column": null,
            "overflow_y": null,
            "overflow_x": null,
            "grid_auto_flow": null,
            "grid_area": null,
            "grid_template_columns": null,
            "flex": null,
            "_model_name": "LayoutModel",
            "justify_items": null,
            "grid_row": null,
            "max_height": null,
            "align_content": null,
            "visibility": null,
            "align_self": null,
            "height": null,
            "min_height": null,
            "padding": null,
            "grid_auto_rows": null,
            "grid_gap": null,
            "max_width": null,
            "order": null,
            "_view_module_version": "1.2.0",
            "grid_template_areas": null,
            "object_position": null,
            "object_fit": null,
            "grid_auto_columns": null,
            "margin": null,
            "display": null,
            "left": null
          }
        },
        "ff0ecde07f6b4a4b88137b02d9f2a201": {
          "model_module": "@jupyter-widgets/controls",
          "model_name": "HBoxModel",
          "state": {
            "_view_name": "HBoxView",
            "_dom_classes": [],
            "_model_name": "HBoxModel",
            "_view_module": "@jupyter-widgets/controls",
            "_model_module_version": "1.5.0",
            "_view_count": null,
            "_view_module_version": "1.5.0",
            "box_style": "",
            "layout": "IPY_MODEL_0b2af5b5ff064ce0a9095ee94cda1fb4",
            "_model_module": "@jupyter-widgets/controls",
            "children": [
              "IPY_MODEL_2de03ce979e84e818b5dabf019de7b72",
              "IPY_MODEL_42d8c8b15fe54d1e94276c38678217fb"
            ]
          }
        },
        "0b2af5b5ff064ce0a9095ee94cda1fb4": {
          "model_module": "@jupyter-widgets/base",
          "model_name": "LayoutModel",
          "state": {
            "_view_name": "LayoutView",
            "grid_template_rows": null,
            "right": null,
            "justify_content": null,
            "_view_module": "@jupyter-widgets/base",
            "overflow": null,
            "_model_module_version": "1.2.0",
            "_view_count": null,
            "flex_flow": null,
            "width": null,
            "min_width": null,
            "border": null,
            "align_items": null,
            "bottom": null,
            "_model_module": "@jupyter-widgets/base",
            "top": null,
            "grid_column": null,
            "overflow_y": null,
            "overflow_x": null,
            "grid_auto_flow": null,
            "grid_area": null,
            "grid_template_columns": null,
            "flex": null,
            "_model_name": "LayoutModel",
            "justify_items": null,
            "grid_row": null,
            "max_height": null,
            "align_content": null,
            "visibility": null,
            "align_self": null,
            "height": null,
            "min_height": null,
            "padding": null,
            "grid_auto_rows": null,
            "grid_gap": null,
            "max_width": null,
            "order": null,
            "_view_module_version": "1.2.0",
            "grid_template_areas": null,
            "object_position": null,
            "object_fit": null,
            "grid_auto_columns": null,
            "margin": null,
            "display": null,
            "left": null
          }
        },
        "2de03ce979e84e818b5dabf019de7b72": {
          "model_module": "@jupyter-widgets/controls",
          "model_name": "IntProgressModel",
          "state": {
            "_view_name": "ProgressView",
            "style": "IPY_MODEL_85c17641cc1a464eaf9fd350187ac528",
            "_dom_classes": [],
            "description": "",
            "_model_name": "IntProgressModel",
            "bar_style": "success",
            "max": 1,
            "_view_module": "@jupyter-widgets/controls",
            "_model_module_version": "1.5.0",
            "value": 1,
            "_view_count": null,
            "_view_module_version": "1.5.0",
            "orientation": "horizontal",
            "min": 0,
            "description_tooltip": null,
            "_model_module": "@jupyter-widgets/controls",
            "layout": "IPY_MODEL_70c0f7aad5784e41a2aeeeecd08d850d"
          }
        },
        "42d8c8b15fe54d1e94276c38678217fb": {
          "model_module": "@jupyter-widgets/controls",
          "model_name": "HTMLModel",
          "state": {
            "_view_name": "HTMLView",
            "style": "IPY_MODEL_8dbdeba9814f4a79aea9490491fde698",
            "_dom_classes": [],
            "description": "",
            "_model_name": "HTMLModel",
            "placeholder": "​",
            "_view_module": "@jupyter-widgets/controls",
            "_model_module_version": "1.5.0",
            "value": " 8192/? [00:00&lt;00:00, 22794.03it/s]",
            "_view_count": null,
            "_view_module_version": "1.5.0",
            "description_tooltip": null,
            "_model_module": "@jupyter-widgets/controls",
            "layout": "IPY_MODEL_1c95edcf183747d5962637fb70816398"
          }
        },
        "85c17641cc1a464eaf9fd350187ac528": {
          "model_module": "@jupyter-widgets/controls",
          "model_name": "ProgressStyleModel",
          "state": {
            "_view_name": "StyleView",
            "_model_name": "ProgressStyleModel",
            "description_width": "initial",
            "_view_module": "@jupyter-widgets/base",
            "_model_module_version": "1.5.0",
            "_view_count": null,
            "_view_module_version": "1.2.0",
            "bar_color": null,
            "_model_module": "@jupyter-widgets/controls"
          }
        },
        "70c0f7aad5784e41a2aeeeecd08d850d": {
          "model_module": "@jupyter-widgets/base",
          "model_name": "LayoutModel",
          "state": {
            "_view_name": "LayoutView",
            "grid_template_rows": null,
            "right": null,
            "justify_content": null,
            "_view_module": "@jupyter-widgets/base",
            "overflow": null,
            "_model_module_version": "1.2.0",
            "_view_count": null,
            "flex_flow": null,
            "width": null,
            "min_width": null,
            "border": null,
            "align_items": null,
            "bottom": null,
            "_model_module": "@jupyter-widgets/base",
            "top": null,
            "grid_column": null,
            "overflow_y": null,
            "overflow_x": null,
            "grid_auto_flow": null,
            "grid_area": null,
            "grid_template_columns": null,
            "flex": null,
            "_model_name": "LayoutModel",
            "justify_items": null,
            "grid_row": null,
            "max_height": null,
            "align_content": null,
            "visibility": null,
            "align_self": null,
            "height": null,
            "min_height": null,
            "padding": null,
            "grid_auto_rows": null,
            "grid_gap": null,
            "max_width": null,
            "order": null,
            "_view_module_version": "1.2.0",
            "grid_template_areas": null,
            "object_position": null,
            "object_fit": null,
            "grid_auto_columns": null,
            "margin": null,
            "display": null,
            "left": null
          }
        },
        "8dbdeba9814f4a79aea9490491fde698": {
          "model_module": "@jupyter-widgets/controls",
          "model_name": "DescriptionStyleModel",
          "state": {
            "_view_name": "StyleView",
            "_model_name": "DescriptionStyleModel",
            "description_width": "",
            "_view_module": "@jupyter-widgets/base",
            "_model_module_version": "1.5.0",
            "_view_count": null,
            "_view_module_version": "1.2.0",
            "_model_module": "@jupyter-widgets/controls"
          }
        },
        "1c95edcf183747d5962637fb70816398": {
          "model_module": "@jupyter-widgets/base",
          "model_name": "LayoutModel",
          "state": {
            "_view_name": "LayoutView",
            "grid_template_rows": null,
            "right": null,
            "justify_content": null,
            "_view_module": "@jupyter-widgets/base",
            "overflow": null,
            "_model_module_version": "1.2.0",
            "_view_count": null,
            "flex_flow": null,
            "width": null,
            "min_width": null,
            "border": null,
            "align_items": null,
            "bottom": null,
            "_model_module": "@jupyter-widgets/base",
            "top": null,
            "grid_column": null,
            "overflow_y": null,
            "overflow_x": null,
            "grid_auto_flow": null,
            "grid_area": null,
            "grid_template_columns": null,
            "flex": null,
            "_model_name": "LayoutModel",
            "justify_items": null,
            "grid_row": null,
            "max_height": null,
            "align_content": null,
            "visibility": null,
            "align_self": null,
            "height": null,
            "min_height": null,
            "padding": null,
            "grid_auto_rows": null,
            "grid_gap": null,
            "max_width": null,
            "order": null,
            "_view_module_version": "1.2.0",
            "grid_template_areas": null,
            "object_position": null,
            "object_fit": null,
            "grid_auto_columns": null,
            "margin": null,
            "display": null,
            "left": null
          }
        }
      }
    }
  },
  "cells": [
    {
      "cell_type": "code",
      "metadata": {
        "id": "Prn4fwTO5_MZ",
        "colab_type": "code",
        "colab": {}
      },
      "source": [
        "import PIL\n",
        "import pandas as pd\n",
        "import numpy as np\n",
        "import os \n",
        "from tqdm import tqdm\n",
        "import logging\n",
        "\n",
        "import matplotlib.image as mpimg\n",
        "import json\n",
        "\n",
        "from skimage.color import rgb2gray\n",
        "from sklearn.metrics import accuracy_score, confusion_matrix, roc_auc_score\n",
        "from sklearn.preprocessing import StandardScaler\n",
        "from sklearn.preprocessing import MinMaxScaler\n",
        "from sklearn.decomposition import PCA\n",
        "from sklearn.neighbors import KNeighborsClassifier, NearestNeighbors\n",
        "\n",
        "import torch\n",
        "import time\n",
        "import copy\n",
        "import torchvision\n",
        "import torchvision.transforms as transforms\n",
        "import torch\n",
        "import torch.nn as nn\n",
        "import torch.nn.functional as func\n",
        "import pandas as pd\n",
        "import numpy as np\n",
        "import matplotlib.pyplot as plt\n",
        "from torch.utils.data import Dataset, DataLoader\n",
        "from torchvision import transforms, utils\n",
        "from torchvision.transforms import ToTensor,Resize\n",
        "\n",
        "from torchvision import models\n",
        "import torch.nn.functional as F\n",
        "\n",
        "from torch.optim import lr_scheduler\n",
        "\n",
        "from sklearn.model_selection import train_test_split\n",
        "\n",
        "from PIL import Image\n",
        "\n",
        "import matplotlib.pyplot as plt\n",
        "\n",
        "from pylab import *\n",
        "%matplotlib inline\n",
        "\n"
      ],
      "execution_count": 0,
      "outputs": []
    },
    {
      "cell_type": "code",
      "metadata": {
        "id": "88k_tHlk6JEv",
        "colab_type": "code",
        "colab": {}
      },
      "source": [
        "RETAIN_CLASSES = [0,1,2,3,4,5,6,7,8,9]\n",
        "\n",
        "EMBEDDING_SIZE = 512\n",
        "\n",
        "TRAIN_IMAGES = 100\n",
        "\n",
        "TEST_IMAGES = 300"
      ],
      "execution_count": 0,
      "outputs": []
    },
    {
      "cell_type": "markdown",
      "metadata": {
        "id": "P-V4glOE5n7J",
        "colab_type": "text"
      },
      "source": [
        "### **Loading Data**"
      ]
    },
    {
      "cell_type": "code",
      "metadata": {
        "id": "Tdusd6So5sod",
        "colab_type": "code",
        "colab": {
          "base_uri": "https://localhost:8080/",
          "height": 366,
          "referenced_widgets": [
            "f9deda1792054a899971eca0a75f6b4d",
            "aea330658371424ea47f999e8caa2928",
            "bc8792eaf10e42ea93e4ecf554ad2ba3",
            "29f346d2e4244da2bfd0b540a3d45dc3",
            "ccfcaeebc26a4d81aa109db3c2b530ee",
            "a9685515a71c44a5a08db6ba761158c6",
            "f2b33eeda9c74c4d9aa49cbd29e2ea7c",
            "d97c0e422e25462e976f29698446001a",
            "4fe98606b34a4aec80fa83fb61af15ce",
            "dcfc226e88234db0a0dc2bb0fbec31e9",
            "e68ae8c4702d411b936c13613d9a2c7f",
            "ef3f008b31f24126917be05022d7b9a0",
            "29c8d1ea0e924513a3172e6aa82eb80c",
            "fd0a5b22ad8940d0bac7eb11b07a3584",
            "28db2ab2a7e84fa7933cefa16eab286b",
            "04c52ff91575408e9d22fcd5e5b92c51",
            "6d968c727d774166bed3682ae6b33e91",
            "3fcd9e220270405fbb62718fa4518b47",
            "2a2c81b89da041378c17e4f9866ed142",
            "5234bd5b881143c8830bcfbb9726213e",
            "bad72609bd6a4cccae5007d008319f1f",
            "7b4a0a8e717245668762caa7239cb36f",
            "7c58fab7fd2d404b967d99e0593edabc",
            "0f12e62a641d4b08a6b5761033e8d564",
            "ff0ecde07f6b4a4b88137b02d9f2a201",
            "0b2af5b5ff064ce0a9095ee94cda1fb4",
            "2de03ce979e84e818b5dabf019de7b72",
            "42d8c8b15fe54d1e94276c38678217fb",
            "85c17641cc1a464eaf9fd350187ac528",
            "70c0f7aad5784e41a2aeeeecd08d850d",
            "8dbdeba9814f4a79aea9490491fde698",
            "1c95edcf183747d5962637fb70816398"
          ]
        },
        "outputId": "1aee65f2-ed03-4e6c-b4b0-0bed4f4784cb"
      },
      "source": [
        "data = torchvision.datasets.MNIST(root =\"./\",train = True, download = True)\n",
        "\n",
        "traindata = torch.load('./MNIST/processed/training.pt')\n",
        "testdata = torch.load('./MNIST/processed/test.pt')"
      ],
      "execution_count": 3,
      "outputs": [
        {
          "output_type": "stream",
          "text": [
            "Downloading http://yann.lecun.com/exdb/mnist/train-images-idx3-ubyte.gz to ./MNIST/raw/train-images-idx3-ubyte.gz\n"
          ],
          "name": "stdout"
        },
        {
          "output_type": "display_data",
          "data": {
            "application/vnd.jupyter.widget-view+json": {
              "model_id": "f9deda1792054a899971eca0a75f6b4d",
              "version_minor": 0,
              "version_major": 2
            },
            "text/plain": [
              "HBox(children=(IntProgress(value=1, bar_style='info', max=1), HTML(value='')))"
            ]
          },
          "metadata": {
            "tags": []
          }
        },
        {
          "output_type": "stream",
          "text": [
            "Extracting ./MNIST/raw/train-images-idx3-ubyte.gz to ./MNIST/raw\n",
            "Downloading http://yann.lecun.com/exdb/mnist/train-labels-idx1-ubyte.gz to ./MNIST/raw/train-labels-idx1-ubyte.gz\n"
          ],
          "name": "stdout"
        },
        {
          "output_type": "display_data",
          "data": {
            "application/vnd.jupyter.widget-view+json": {
              "model_id": "4fe98606b34a4aec80fa83fb61af15ce",
              "version_minor": 0,
              "version_major": 2
            },
            "text/plain": [
              "HBox(children=(IntProgress(value=1, bar_style='info', max=1), HTML(value='')))"
            ]
          },
          "metadata": {
            "tags": []
          }
        },
        {
          "output_type": "stream",
          "text": [
            "Extracting ./MNIST/raw/train-labels-idx1-ubyte.gz to ./MNIST/raw\n",
            "Downloading http://yann.lecun.com/exdb/mnist/t10k-images-idx3-ubyte.gz to ./MNIST/raw/t10k-images-idx3-ubyte.gz\n"
          ],
          "name": "stdout"
        },
        {
          "output_type": "display_data",
          "data": {
            "application/vnd.jupyter.widget-view+json": {
              "model_id": "6d968c727d774166bed3682ae6b33e91",
              "version_minor": 0,
              "version_major": 2
            },
            "text/plain": [
              "HBox(children=(IntProgress(value=1, bar_style='info', max=1), HTML(value='')))"
            ]
          },
          "metadata": {
            "tags": []
          }
        },
        {
          "output_type": "stream",
          "text": [
            "Extracting ./MNIST/raw/t10k-images-idx3-ubyte.gz to ./MNIST/raw\n",
            "Downloading http://yann.lecun.com/exdb/mnist/t10k-labels-idx1-ubyte.gz to ./MNIST/raw/t10k-labels-idx1-ubyte.gz\n"
          ],
          "name": "stdout"
        },
        {
          "output_type": "display_data",
          "data": {
            "application/vnd.jupyter.widget-view+json": {
              "model_id": "ff0ecde07f6b4a4b88137b02d9f2a201",
              "version_minor": 0,
              "version_major": 2
            },
            "text/plain": [
              "HBox(children=(IntProgress(value=1, bar_style='info', max=1), HTML(value='')))"
            ]
          },
          "metadata": {
            "tags": []
          }
        },
        {
          "output_type": "stream",
          "text": [
            "Extracting ./MNIST/raw/t10k-labels-idx1-ubyte.gz to ./MNIST/raw\n",
            "Processing...\n",
            "Done!\n",
            "\n",
            "\n",
            "\n"
          ],
          "name": "stdout"
        }
      ]
    },
    {
      "cell_type": "code",
      "metadata": {
        "id": "W4808x6us6F-",
        "colab_type": "code",
        "colab": {}
      },
      "source": [
        "def getMNISTData_(data,retain_classes, numImages = 500):\n",
        "    dataList = []\n",
        "    labelList = []\n",
        "    counter={}\n",
        "    for i in retain_classes:\n",
        "      counter[i]=0\n",
        "\n",
        "    for i in range(len(data[0])):\n",
        "        if data[1][i] in retain_classes:\n",
        "            if counter[int(data[1][i])] < numImages:\n",
        "              labelList.append(data[1][i])\n",
        "              dataList.append(data[0][i,:,:].unsqueeze(0))\n",
        "              counter[int(data[1][i])] += 1\n",
        "\n",
        "    \n",
        "    dataList = torch.cat(dataList)\n",
        "    labelList = [int(x) for x in labelList]\n",
        "\n",
        "    return dataList, labelList\n",
        "\n",
        "def getMNISTData(retain_classes, trainImages = 500, testImages = 1000):\n",
        "\n",
        "    data = torchvision.datasets.MNIST(root =\"./\",train = True, download = True)\n",
        "\n",
        "    traindata = torch.load('./MNIST/processed/training.pt')\n",
        "    testdata = torch.load('./MNIST/processed/test.pt')\n",
        "\n",
        "    trainX,trainy = getMNISTData_(traindata, retain_classes, trainImages)\n",
        "    testX,testy = getMNISTData_(testdata, retain_classes, testImages)\n",
        "\n",
        "\n",
        "    return trainX,trainy,testX,testy\n",
        "\n"
      ],
      "execution_count": 0,
      "outputs": []
    },
    {
      "cell_type": "code",
      "metadata": {
        "id": "SCtahC8N6Ocw",
        "colab_type": "code",
        "colab": {}
      },
      "source": [
        "trainX,trainy,testX,testy = getMNISTData(RETAIN_CLASSES, TRAIN_IMAGES, TEST_IMAGES)"
      ],
      "execution_count": 0,
      "outputs": []
    },
    {
      "cell_type": "code",
      "metadata": {
        "id": "kyCHKpMX6a7e",
        "colab_type": "code",
        "outputId": "a59daaf2-7224-4bd7-d7ad-99c9a1e490c3",
        "colab": {
          "base_uri": "https://localhost:8080/",
          "height": 282
        }
      },
      "source": [
        "plt.imshow(trainX[9])"
      ],
      "execution_count": 6,
      "outputs": [
        {
          "output_type": "execute_result",
          "data": {
            "text/plain": [
              "<matplotlib.image.AxesImage at 0x7f692e513908>"
            ]
          },
          "metadata": {
            "tags": []
          },
          "execution_count": 6
        },
        {
          "output_type": "display_data",
          "data": {
            "image/png": "[encoded data removed]",
            "text/plain": [
              "<Figure size 432x288 with 1 Axes>"
            ]
          },
          "metadata": {
            "tags": [],
            "needs_background": "light"
          }
        }
      ]
    },
    {
      "cell_type": "code",
      "metadata": {
        "id": "9jFkLmFM65CT",
        "colab_type": "code",
        "colab": {}
      },
      "source": [
        ""
      ],
      "execution_count": 0,
      "outputs": []
    },
    {
      "cell_type": "markdown",
      "metadata": {
        "id": "AVNI3G4a5w_5",
        "colab_type": "text"
      },
      "source": [
        "### **Utils**"
      ]
    },
    {
      "cell_type": "markdown",
      "metadata": {
        "id": "fsomrhUk7L1P",
        "colab_type": "text"
      },
      "source": [
        "#### Helper Functions"
      ]
    },
    {
      "cell_type": "code",
      "metadata": {
        "id": "52J7033s7H8F",
        "colab_type": "code",
        "colab": {}
      },
      "source": [
        "def getSupport(net, dataloader):\n",
        "\n",
        "    supports = []\n",
        "    labels = []\n",
        "\n",
        "    with torch.no_grad():\n",
        "\n",
        "        net.eval()\n",
        "\n",
        "        for data in dataloader:\n",
        "            x,y = data\n",
        "            x = x.to('cuda')\n",
        "            feat = net.getFeatures(x)\n",
        "\n",
        "            supports.append(feat)\n",
        "            labels.append(y)\n",
        "\n",
        "    support = torch.cat(supports,axis=0)\n",
        "    labels = torch.cat(labels,axis=0)\n",
        "\n",
        "    return support, labels\n",
        "\n",
        "\n",
        "def compareSamples(index1,index2, metric = 'cosine'):\n",
        "    img1 = testX[index1].unsqueeze(0).repeat(3,1,1)\n",
        "    img2 = testX[index2].unsqueeze(0).repeat(3,1,1)\n",
        "\n",
        "    label1, label2 = testy[index1], testy[index2]\n",
        "\n",
        "    if label1 ==label2:\n",
        "        trainLabel = 1\n",
        "    else:\n",
        "        trainLabel = 0\n",
        "\n",
        "    print(f\"Labels are {label1} and {label2}\")\n",
        "\n",
        "\n",
        "    feat1 = net.getFeatures(img1.unsqueeze(0).cuda().float())\n",
        "    feat2 = net.getFeatures(img2.unsqueeze(0).cuda().float())\n",
        "\n",
        "    if metric=='cosine':\n",
        "      dist = F.cosine_similarity(feat1, feat2)\n",
        "    else:\n",
        "      dist = F.pairwise_distance(feat1,feat2)\n",
        "\n",
        "    loss = criterion(feat1, feat2, trainLabel)\n",
        "\n",
        "    print(f\"dist is {float(dist)} and loss is {loss}\")\n",
        "\n",
        "\n",
        "\n",
        "def getDistribution(support, labels ):\n",
        "\n",
        "    uniqueClasses = sorted(pd.Series(labels).unique())\n",
        "\n",
        "    NUM_COLORS = len(uniqueClasses)\n",
        "\n",
        "    mp = cm.datad['PuBuGn']\n",
        "    # get_color = matplotlib.colors.LinearSegmentedColormap.from_list(mp, colors=['r', 'y', 'g', 'b'], N=NUM_COLORS)\n",
        "\n",
        "    get_color = plt.get_cmap('viridis')\n",
        "\n",
        "    colorMap = {}\n",
        "    for i in range(len(uniqueClasses)):\n",
        "        colorMap[uniqueClasses[i]] = get_color(i/NUM_COLORS)\n",
        "    \n",
        "    support = support.cpu().numpy()\n",
        "\n",
        "    scaler = StandardScaler()\n",
        "    X = scaler.fit_transform(support)\n",
        "\n",
        "    pca = PCA(n_components=2)\n",
        "    pcaX = pca.fit_transform(X=X)\n",
        "    varExplained = np.sum(pca.explained_variance_ratio_[:2])\n",
        "    print(f\"Variance Explained : {varExplained}\")\n",
        "\n",
        "    colors = [colorMap[int(x)] for x in labels]\n",
        "    for i in range(len(uniqueClasses)):\n",
        "      index = np.array(labels) == int(uniqueClasses[i])\n",
        "      plt.scatter(pcaX[index,0], pcaX[index,1], color=colorMap[int(uniqueClasses[i])], label =int(uniqueClasses[i]))\n",
        "    plt.legend()\n",
        "\n",
        "    plt.show()\n",
        "\n",
        "\n",
        "def getClassMap(uniqueClass):\n",
        "\n",
        "    classMap = {}\n",
        "    for i in range(len(uniqueClass)):\n",
        "        classMap[uniqueClass[i]] = i\n",
        "\n",
        "    classMap_ = {k:v for v,k in classMap.items()}\n",
        "\n",
        "    return classMap, classMap_"
      ],
      "execution_count": 0,
      "outputs": []
    },
    {
      "cell_type": "code",
      "metadata": {
        "id": "Y8l9zWdh7msj",
        "colab_type": "code",
        "colab": {}
      },
      "source": [
        "\n",
        "def visualizeTestSample(support, labels, testFeat, testLabel, testPred ):\n",
        "\n",
        "    uniqueClasses = sorted(pd.Series(labels).unique())\n",
        "\n",
        "    NUM_COLORS = len(uniqueClasses)\n",
        "\n",
        "    get_color = plt.get_cmap('viridis')\n",
        "\n",
        "    colorMap = {}\n",
        "    for i in range(len(uniqueClasses)):\n",
        "        colorMap[uniqueClasses[i]] = get_color(i/NUM_COLORS)\n",
        "    \n",
        "\n",
        "    support = support.cpu().numpy()\n",
        "    testFeat = testFeat.detach().cpu().numpy()\n",
        "\n",
        "    # scaler = StandardScaler()\n",
        "    # X = scaler.fit_transform(support)\n",
        "\n",
        "    pca = PCA(n_components=2)\n",
        "    pcaX = pca.fit_transform(X=support)\n",
        "    testFeatX = pca.transform(X = testFeat)\n",
        "\n",
        "    varExplained = np.sum(pca.explained_variance_ratio_[:2])\n",
        "    print(f\"Variance Explained : {varExplained}\")\n",
        "    print(f\"Predicted Label : {int(testPred)}. True Label : {testLabel}\")\n",
        "\n",
        "    colors = [colorMap[int(x)] for x in labels]\n",
        "    for i in range(len(uniqueClasses)):\n",
        "      index = np.array(labels) == int(uniqueClasses[i])\n",
        "      plt.scatter(pcaX[index,0], pcaX[index,1], color=colorMap[int(uniqueClasses[i])], label =int(uniqueClasses[i]))\n",
        "    \n",
        "    plt.plot(testFeatX[:,0], testFeatX[:,1], color='red', markeredgecolor = 'black', marker='H',markersize=10, label = 'test')\n",
        "    plt.legend()\n",
        "\n",
        "    plt.show()"
      ],
      "execution_count": 0,
      "outputs": []
    },
    {
      "cell_type": "code",
      "metadata": {
        "id": "ifyEYy_c8C6x",
        "colab_type": "code",
        "colab": {}
      },
      "source": [
        "def getPred(net, train_dataloader_, testDataset_, metric = 'cosine', usePCA = False, PCA_components = 10):\n",
        "\n",
        "    support, labels = getSupport(net, train_dataloader_)\n",
        "\n",
        "    X = support.cpu().numpy()\n",
        "\n",
        "    pca = PCA(n_components=PCA_components)\n",
        "    if usePCA:\n",
        "      X = pca.fit_transform(X=X)\n",
        "\n",
        "    knnModel = KNeighborsClassifier(n_neighbors=8,metric=metric)\n",
        "    knnModel.fit(X, labels)\n",
        "\n",
        "    labelList = []\n",
        "    predList = []\n",
        "    for i in tqdm(range(len(testDataset_))):\n",
        "        testX = net.getFeatures(testDataset_[i][0].unsqueeze(0).cuda()).detach().cpu().numpy()\n",
        "        label = int(testDataset_[i][1])\n",
        "        if usePCA:\n",
        "          testX = pca.transform(testX)\n",
        "\n",
        "        pred = knnModel.predict(testX)\n",
        "        predList.append(pred[0])\n",
        "        labelList.append(label)\n",
        "\n",
        "    \n",
        "    return predList, labelList\n"
      ],
      "execution_count": 0,
      "outputs": []
    },
    {
      "cell_type": "markdown",
      "metadata": {
        "id": "MaTV8jFt7P23",
        "colab_type": "text"
      },
      "source": [
        "#### Class Definitions"
      ]
    },
    {
      "cell_type": "code",
      "metadata": {
        "id": "aJHOA5Op6bIZ",
        "colab_type": "code",
        "colab": {}
      },
      "source": [
        "\n",
        "\n",
        "\n",
        "class SiameseDataset(torch.utils.data.Dataset):\n",
        "    def __init__(self, dataList, labelList, prob=0.5, transform=None, classMap= None, classMap_ = None):\n",
        "        \"\"\"\n",
        "        dataList : List of torch arrays (Images)\n",
        "        labelList : List of labels\n",
        "        prob : Probability of outputing a positive sample pair\n",
        "        \"\"\"\n",
        "     \n",
        "    \n",
        "        self.dataList = dataList\n",
        "        self.labelList = np.array(labelList)\n",
        "        self.prob = prob\n",
        "        self.uniqueLabels = sorted(pd.Series(labelList).unique())\n",
        "        # self.transform = transform\n",
        "        # self.numClasses = df.label.nunique()\n",
        "\n",
        "        if classMap is None or classMap_ is None:\n",
        "            self.classMap, self.classMap_ = getClassMap(sorted(pd.Series(labelList).unique()))\n",
        "        else:\n",
        "            self.classMap, self.classMap_ = classMap, classMap_\n",
        "        \n",
        "    \n",
        "    def __len__(self):\n",
        "        return len(self.dataList)\n",
        "    \n",
        "    def __getitem__(self, index):\n",
        "\n",
        "        is_positive = np.random.random() < self.prob\n",
        "\n",
        "        if is_positive:\n",
        "            posLabel = np.random.choice(self.uniqueLabels,1)\n",
        "            # print(f\"Positive Label : {posLabel}\")\n",
        "\n",
        "            positive_indexes = np.where(self.labelList==posLabel)[0]\n",
        "\n",
        "            img_index = np.random.choice(positive_indexes, 2, replace = False)\n",
        "            index1, index2 = img_index[0], img_index[1]\n",
        "\n",
        "            img1 = self.dataList[index1,:,:].unsqueeze(0).repeat(3,1,1)\n",
        "            img2 = self.dataList[index2,:,:].unsqueeze(0).repeat(3,1,1)\n",
        "\n",
        "            target_label = 1\n",
        "\n",
        "        else:\n",
        "            negLabels = np.random.choice(self.uniqueLabels,2, replace = False)\n",
        "            # print(f\"Neg labels : {negLabels}\")\n",
        "\n",
        "            index1 = np.random.choice(np.where(self.labelList== negLabels[0])[0], size = 1, replace = False)[0]\n",
        "            index2 = np.random.choice(np.where(self.labelList== negLabels[1])[0], size = 1, replace = False)[0]\n",
        "\n",
        "            # print(index1)\n",
        "\n",
        "            img1 = self.dataList[index1,:,:].unsqueeze(0).repeat(3,1,1)\n",
        "            img2 = self.dataList[index2,:,:].unsqueeze(0).repeat(3,1,1)\n",
        "\n",
        "            target_label = 0\n",
        "\n",
        "        img1 = img1/255.0\n",
        "        img2 = img2/255.0\n",
        "\n",
        "        \n",
        "        return img1,img2, target_label"
      ],
      "execution_count": 0,
      "outputs": []
    },
    {
      "cell_type": "code",
      "metadata": {
        "id": "mDpiwTLa7KIp",
        "colab_type": "code",
        "colab": {}
      },
      "source": [
        "class ImageDataset(torch.utils.data.Dataset):\n",
        "  def __init__(self, dataList, labelList, transform=None, classMap= None, classMap_ = None):\n",
        "    \n",
        "    \n",
        "    self.df = dataList\n",
        "    self.labelList = labelList\n",
        "    self.transform = transform\n",
        "\n",
        "    if classMap is None or classMap_ is None:\n",
        "        self.classMap, self.classMap_ = getClassMap(sorted(pd.Series(labelList).unique()))\n",
        "    else:\n",
        "        self.classMap, self.classMap_ = classMap, classMap_\n",
        "        \n",
        "\n",
        "\n",
        "    \n",
        "  def __len__(self):\n",
        "    \n",
        "    return len(self.df)\n",
        "    \n",
        "  def __getitem__(self, index):\n",
        "    \n",
        "    img = self.df[index,:,:].unsqueeze(0).repeat(3,1,1)\n",
        "    \n",
        "    label = int(self.labelList[index])\n",
        "            \n",
        "    img = img/255.0\n",
        "    \n",
        "    return img, label\n",
        "\n"
      ],
      "execution_count": 0,
      "outputs": []
    },
    {
      "cell_type": "code",
      "metadata": {
        "id": "BY4Ejgni7X3z",
        "colab_type": "code",
        "colab": {}
      },
      "source": [
        "class Net(nn.Module):\n",
        "\n",
        "    def __init__(self,activation = 'relu'):\n",
        "        super().__init__()\n",
        "\n",
        "        self.activation = activation\n",
        "        self.conv1 = nn.Conv2d(3, 64, 7)\n",
        "        self.pool1 = nn.MaxPool2d(2)\n",
        "        self.conv2 = nn.Conv2d(64, 128, 5)\n",
        "        self.conv3 = nn.Conv2d(128, 256, 5)\n",
        "        self.linear1 = nn.Linear(2304, EMBEDDING_SIZE)\n",
        "\n",
        "        # self.linear2 = nn.Linear(512, 3)\n",
        "\n",
        "    def getFeatures(self, x):\n",
        "\n",
        "        x = self.conv1(x)\n",
        "        x = F.relu(x)\n",
        "        x = self.pool1(x)\n",
        "        x = self.conv2(x)\n",
        "        x = F.relu(x)\n",
        "        x = self.conv3(x)\n",
        "        x = F.relu(x)\n",
        "\n",
        "        x = x.view(x.shape[0], -1)\n",
        "        x = self.linear1(x)\n",
        "        # x = self.linear2(x)\n",
        "        if self.activation =='relu':\n",
        "          x = F.relu(x)\n",
        "        else:\n",
        "          x = torch.sigmoid(x)\n",
        "\n",
        "        return x\n",
        "\n",
        "    def forward(self, x1, x2):\n",
        "\n",
        "        out1 = self.getFeatures(x1)\n",
        "        out2 = self.getFeatures(x2)\n",
        "\n",
        "        return out1, out2\n",
        "\n",
        "class resnetSiamese(torch.nn.Module):\n",
        "    def __init__(self, pretrained = True, activation = 'relu'):\n",
        "\n",
        "        super(resnetSiamese, self).__init__()\n",
        "        \n",
        "        resnetModel_ = torchvision.models.resnet.resnet50(pretrained=pretrained)\n",
        "\n",
        "        self.activation = activation\n",
        "\n",
        "        for name,child in resnetModel_.named_children():\n",
        "          setattr(self, name, getattr(resnetModel_, name))\n",
        "\n",
        "        self.linear1 = nn.Linear(2048,EMBEDDING_SIZE)\n",
        "\n",
        "    def getFeatures(self,x):\n",
        "\n",
        "        x = self.conv1(x)\n",
        "        x = self.bn1(x)\n",
        "        x = self.relu(x)\n",
        "        x = self.maxpool(x)\n",
        "\n",
        "        x = self.layer1(x)\n",
        "        x = self.layer2(x)\n",
        "        x = self.layer3(x)\n",
        "        x = self.layer4(x)\n",
        "\n",
        "        x = self.avgpool(x)\n",
        "        x = torch.flatten(x, 1)\n",
        "        \n",
        "        if self.activation =='relu':\n",
        "          x = F.relu(x)\n",
        "        else:\n",
        "          x = torch.sigmoid(x)\n",
        "\n",
        "        x = self.linear1(x)\n",
        "        \n",
        "        if self.activation =='relu':\n",
        "          x = F.relu(x)\n",
        "        else:\n",
        "          x = torch.sigmoid(x)\n",
        "        \n",
        "        \n",
        "        return x\n",
        "\n",
        "    def forward(self,x1, x2):\n",
        "\n",
        "        x1 = self.getFeatures(x1)\n",
        "        x2 = self.getFeatures(x2)\n",
        "\n",
        "        return x1, x2"
      ],
      "execution_count": 0,
      "outputs": []
    },
    {
      "cell_type": "code",
      "metadata": {
        "id": "3au0km5O8EUP",
        "colab_type": "code",
        "colab": {}
      },
      "source": [
        "class ContrastiveLoss(torch.nn.Module):\n",
        "    \"\"\"\n",
        "    Contrastive loss function.\n",
        "    Based on: http://yann.lecun.com/exdb/publis/pdf/hadsell-chopra-lecun-06.pdf\n",
        "    \"\"\"\n",
        "\n",
        "    def __init__(self, margin=15.0, metric='cosine'):\n",
        "        super(ContrastiveLoss, self).__init__()\n",
        "        self.margin = margin\n",
        "        self.metric = metric\n",
        "\n",
        "    def forward_cosine(self, output1, output2, label):\n",
        "        euclidean_distance = 1 - torch.nn.functional.cosine_similarity(output1, output2)\n",
        "        # print(euclidean_distance)\n",
        "        loss_contrastive = torch.mean((label) * torch.pow(euclidean_distance, 2) +\n",
        "                                      (1 - label) * torch.pow(torch.clamp(self.margin - euclidean_distance, min=0.0), 2))\n",
        "        \n",
        "        return loss_contrastive\n",
        "      \n",
        "    def forward_euclidean(self, output1, output2, label):\n",
        "        euclidean_distance = torch.nn.functional.pairwise_distance(output1, output2)\n",
        "        # print(euclidean_distance)\n",
        "        loss_contrastive = torch.mean((label) * torch.pow(euclidean_distance, 2) +\n",
        "                                      (1 - label) * torch.pow(torch.clamp(self.margin - euclidean_distance, min=0.0), 2))\n",
        "        return loss_contrastive\n",
        "\n",
        "    def forward(self, output1, output2, label):\n",
        "\n",
        "      if self.metric =='cosine':\n",
        "        loss = self.forward_cosine(output1, output2, label)\n",
        "      else:\n",
        "        loss = self.forward_euclidean(output1, output2, label)\n",
        "      \n",
        "      return loss\n",
        "\n"
      ],
      "execution_count": 0,
      "outputs": []
    },
    {
      "cell_type": "markdown",
      "metadata": {
        "id": "SCbstXmk5jZt",
        "colab_type": "text"
      },
      "source": [
        "### **Training**"
      ]
    },
    {
      "cell_type": "code",
      "metadata": {
        "id": "AeiKgpIe8Lfx",
        "colab_type": "code",
        "colab": {}
      },
      "source": [
        "trainDataset = SiameseDataset(trainX, trainy, prob = 0.5)\n",
        "\n",
        "trainDataset_ = ImageDataset(trainX, trainy)\n",
        "testDataset_ = ImageDataset(testX, testy)\n",
        "\n",
        "train_dataloader = DataLoader(trainDataset,\n",
        "                        shuffle=True,\n",
        "                        num_workers=1,\n",
        "                        batch_size=10)\n",
        "\n",
        "train_dataloader_ = DataLoader(trainDataset_,\n",
        "                        shuffle=False,\n",
        "                        num_workers=1,\n",
        "                        batch_size=10)\n",
        "\n",
        "test_dataloader_ = DataLoader(testDataset_,\n",
        "                        shuffle=False,\n",
        "                        num_workers=1,\n",
        "                        batch_size=10)"
      ],
      "execution_count": 0,
      "outputs": []
    },
    {
      "cell_type": "code",
      "metadata": {
        "id": "PguILGA58YMM",
        "colab_type": "code",
        "colab": {}
      },
      "source": [
        "### Select Model type\n",
        "net = resnetSiamese(pretrained = True, activation ='relu')\n",
        "# net = Net(activation = 'relu')\n",
        "\n",
        "\n",
        "\n",
        "net.to('cuda')\n",
        "\n",
        "criterion = ContrastiveLoss(margin=0.5, metric='cosine')\n",
        "\n",
        "counter = []\n",
        "loss_history = [] \n",
        "iteration_number= 0\n",
        "\n",
        "# ### Code to freeze resnet base layers\n",
        "# for name,module in net.named_children():\n",
        "#     for param in module.parameters():\n",
        "#         param.requires_grad = False\n",
        "#         if name == 'fc' or name =='linear1':\n",
        "#             param.requires_grad = True\n",
        "\n",
        "\n",
        "# optimizer = torch.optim.Adam(filter(lambda p: p.requires_grad, net.parameters()) ,lr = 0.0001 )"
      ],
      "execution_count": 0,
      "outputs": []
    },
    {
      "cell_type": "code",
      "metadata": {
        "id": "jyUmeAxD8xLW",
        "colab_type": "code",
        "outputId": "e1cf9ab6-67ff-4473-cc80-f186095cbbc6",
        "colab": {
          "base_uri": "https://localhost:8080/",
          "height": 1000
        }
      },
      "source": [
        "optimizer = torch.optim.Adam(filter(lambda p: p.requires_grad, net.parameters()) ,lr = 0.00001 )\n",
        "\n",
        "\n",
        "net.train()\n",
        "\n",
        "for epoch in range(0,10):\n",
        "    epoch_loss = []\n",
        "    support, labels = getSupport(net, train_dataloader_)\n",
        "    getDistribution(support, labels)\n",
        "    plt.show()\n",
        "\n",
        "    for i, data in enumerate(train_dataloader,0):\n",
        "        img0, img1 , label = data\n",
        "        img0, img1 , label = img0.cuda(), img1.cuda() , label.cuda()\n",
        " \n",
        "        optimizer.zero_grad()\n",
        "        output1,output2 = net(img0,img1)\n",
        "        loss_contrastive = criterion(output1,output2,label)\n",
        "        loss_contrastive.backward()\n",
        "        optimizer.step()\n",
        "\n",
        "        epoch_loss.append(loss_contrastive.item())\n",
        "\n",
        "\n",
        "    print(f\"Epoch Loss : {np.mean(epoch_loss)}\")\n",
        "\n",
        "\n",
        "support, labels = getSupport(net, train_dataloader_)\n",
        "getDistribution(support, labels)\n",
        "plt.show()\n",
        "\n",
        "    "
      ],
      "execution_count": 18,
      "outputs": [
        {
          "output_type": "stream",
          "text": [
            "Variance Explained : 0.28808391094207764\n"
          ],
          "name": "stdout"
        },
        {
          "output_type": "display_data",
          "data": {
            "image/png": "[encoded data removed]",
            "text/plain": [
              "<Figure size 432x288 with 1 Axes>"
            ]
          },
          "metadata": {
            "tags": [],
            "needs_background": "light"
          }
        },
        {
          "output_type": "stream",
          "text": [
            "Epoch Loss : 0.03638432589359582\n",
            "Variance Explained : 0.31803274154663086\n"
          ],
          "name": "stdout"
        },
        {
          "output_type": "display_data",
          "data": {
            "image/png": "[encoded data removed]",
            "text/plain": [
              "<Figure size 432x288 with 1 Axes>"
            ]
          },
          "metadata": {
            "tags": [],
            "needs_background": "light"
          }
        },
        {
          "output_type": "stream",
          "text": [
            "Epoch Loss : 0.015922371158376337\n",
            "Variance Explained : 0.3155987858772278\n"
          ],
          "name": "stdout"
        },
        {
          "output_type": "display_data",
          "data": {
            "image/png": "[encoded data removed]",
            "text/plain": [
              "<Figure size 432x288 with 1 Axes>"
            ]
          },
          "metadata": {
            "tags": [],
            "needs_background": "light"
          }
        },
        {
          "output_type": "stream",
          "text": [
            "Epoch Loss : 0.009519011753436644\n",
            "Variance Explained : 0.3087766170501709\n"
          ],
          "name": "stdout"
        },
        {
          "output_type": "display_data",
          "data": {
            "image/png": "[encoded data removed]",
            "text/plain": [
              "<Figure size 432x288 with 1 Axes>"
            ]
          },
          "metadata": {
            "tags": [],
            "needs_background": "light"
          }
        },
        {
          "output_type": "stream",
          "text": [
            "Epoch Loss : 0.005720654498436489\n",
            "Variance Explained : 0.29247617721557617\n"
          ],
          "name": "stdout"
        },
        {
          "output_type": "display_data",
          "data": {
            "image/png": "[encoded data removed]",
            "text/plain": [
              "<Figure size 432x288 with 1 Axes>"
            ]
          },
          "metadata": {
            "tags": [],
            "needs_background": "light"
          }
        },
        {
          "output_type": "stream",
          "text": [
            "Epoch Loss : 0.004338772929040715\n",
            "Variance Explained : 0.2776455581188202\n"
          ],
          "name": "stdout"
        },
        {
          "output_type": "display_data",
          "data": {
            "image/png": "[encoded data removed]",
            "text/plain": [
              "<Figure size 432x288 with 1 Axes>"
            ]
          },
          "metadata": {
            "tags": [],
            "needs_background": "light"
          }
        },
        {
          "output_type": "stream",
          "text": [
            "Epoch Loss : 0.004236227833898738\n",
            "Variance Explained : 0.27978330850601196\n"
          ],
          "name": "stdout"
        },
        {
          "output_type": "display_data",
          "data": {
            "image/png": "[encoded data removed]",
            "text/plain": [
              "<Figure size 432x288 with 1 Axes>"
            ]
          },
          "metadata": {
            "tags": [],
            "needs_background": "light"
          }
        },
        {
          "output_type": "stream",
          "text": [
            "Epoch Loss : 0.003608318881742889\n",
            "Variance Explained : 0.2777513265609741\n"
          ],
          "name": "stdout"
        },
        {
          "output_type": "display_data",
          "data": {
            "image/png": "[encoded data removed]",
            "text/plain": [
              "<Figure size 432x288 with 1 Axes>"
            ]
          },
          "metadata": {
            "tags": [],
            "needs_background": "light"
          }
        },
        {
          "output_type": "stream",
          "text": [
            "Epoch Loss : 0.0016809947376168566\n",
            "Variance Explained : 0.2798205018043518\n"
          ],
          "name": "stdout"
        },
        {
          "output_type": "display_data",
          "data": {
            "image/png": "[encoded data removed]",
            "text/plain": [
              "<Figure size 432x288 with 1 Axes>"
            ]
          },
          "metadata": {
            "tags": [],
            "needs_background": "light"
          }
        },
        {
          "output_type": "stream",
          "text": [
            "Epoch Loss : 0.0018447423745237756\n",
            "Variance Explained : 0.26814842224121094\n"
          ],
          "name": "stdout"
        },
        {
          "output_type": "display_data",
          "data": {
            "image/png": "[encoded data removed]",
            "text/plain": [
              "<Figure size 432x288 with 1 Axes>"
            ]
          },
          "metadata": {
            "tags": [],
            "needs_background": "light"
          }
        },
        {
          "output_type": "stream",
          "text": [
            "Epoch Loss : 0.0007898011952420347\n",
            "Variance Explained : 0.2695688009262085\n"
          ],
          "name": "stdout"
        },
        {
          "output_type": "display_data",
          "data": {
            "image/png": "[encoded data removed]",
            "text/plain": [
              "<Figure size 432x288 with 1 Axes>"
            ]
          },
          "metadata": {
            "tags": [],
            "needs_background": "light"
          }
        }
      ]
    },
    {
      "cell_type": "code",
      "metadata": {
        "id": "Se3yO9raJrw_",
        "colab_type": "code",
        "outputId": "8bebb723-41cc-4a5c-cdee-b20efdbb382b",
        "colab": {
          "base_uri": "https://localhost:8080/",
          "height": 51
        }
      },
      "source": [
        "pred, label = getPred(net, train_dataloader_, testDataset_, metric ='cosine')\n",
        "\n",
        "accuracy_score(label, pred)"
      ],
      "execution_count": 24,
      "outputs": [
        {
          "output_type": "stream",
          "text": [
            "100%|██████████| 3000/3000 [01:06<00:00, 44.81it/s]\n"
          ],
          "name": "stderr"
        },
        {
          "output_type": "execute_result",
          "data": {
            "text/plain": [
              "0.9203333333333333"
            ]
          },
          "metadata": {
            "tags": []
          },
          "execution_count": 24
        }
      ]
    },
    {
      "cell_type": "code",
      "metadata": {
        "id": "oHaFW5aNrC7i",
        "colab_type": "code",
        "outputId": "9c859447-5201-4e6b-e9ff-20b4a32602aa",
        "colab": {
          "base_uri": "https://localhost:8080/",
          "height": 51
        }
      },
      "source": [
        "compareSamples(1,2, metric='euclidean')"
      ],
      "execution_count": 0,
      "outputs": [
        {
          "output_type": "stream",
          "text": [
            "Labels are 5 and 5\n",
            "dist is 172.70042419433594 and loss is 29825.435546875\n"
          ],
          "name": "stdout"
        }
      ]
    },
    {
      "cell_type": "code",
      "metadata": {
        "id": "Ed0nPPIhymw8",
        "colab_type": "code",
        "outputId": "fea0e767-e6e5-4799-920a-c7e7f0c10eba",
        "colab": {
          "base_uri": "https://localhost:8080/",
          "height": 51
        }
      },
      "source": [
        "compareSamples(1,3, metric='euclidean')"
      ],
      "execution_count": 0,
      "outputs": [
        {
          "output_type": "stream",
          "text": [
            "Labels are 5 and 7\n",
            "dist is 481.567626953125 and loss is 0.0\n"
          ],
          "name": "stdout"
        }
      ]
    },
    {
      "cell_type": "code",
      "metadata": {
        "id": "Cy0f8ly-JqTR",
        "colab_type": "code",
        "colab": {}
      },
      "source": [
        ""
      ],
      "execution_count": 0,
      "outputs": []
    },
    {
      "cell_type": "code",
      "metadata": {
        "id": "S0R63x_8JqV2",
        "colab_type": "code",
        "colab": {}
      },
      "source": [
        ""
      ],
      "execution_count": 0,
      "outputs": []
    },
    {
      "cell_type": "code",
      "metadata": {
        "id": "Sk-cRU_R-EGD",
        "colab_type": "code",
        "colab": {}
      },
      "source": [
        ""
      ],
      "execution_count": 0,
      "outputs": []
    },
    {
      "cell_type": "code",
      "metadata": {
        "id": "axZqE9t7rLhD",
        "colab_type": "code",
        "colab": {}
      },
      "source": [
        ""
      ],
      "execution_count": 0,
      "outputs": []
    },
    {
      "cell_type": "markdown",
      "metadata": {
        "id": "HWYH5awEAwQ3",
        "colab_type": "text"
      },
      "source": [
        "### **Predictions**"
      ]
    },
    {
      "cell_type": "code",
      "metadata": {
        "id": "XaW1UxOCB-ex",
        "colab_type": "code",
        "outputId": "ef7fd560-7ea1-473e-922e-7b3d28902db0",
        "colab": {
          "base_uri": "https://localhost:8080/",
          "height": 51
        }
      },
      "source": [
        "testPred, testLabels = getPred(net, train_dataloader_, testDataset_, usePCA=False)\n",
        "\n",
        "accuracy_score(testPred, testLabels)"
      ],
      "execution_count": 0,
      "outputs": [
        {
          "output_type": "stream",
          "text": [
            "100%|██████████| 3000/3000 [00:14<00:00, 204.25it/s]\n"
          ],
          "name": "stderr"
        },
        {
          "output_type": "execute_result",
          "data": {
            "text/plain": [
              "0.82"
            ]
          },
          "metadata": {
            "tags": []
          },
          "execution_count": 125
        }
      ]
    },
    {
      "cell_type": "markdown",
      "metadata": {
        "id": "KZ90DIZ65Xu-",
        "colab_type": "text"
      },
      "source": [
        "### **Error Analysis**"
      ]
    },
    {
      "cell_type": "code",
      "metadata": {
        "id": "tI7Ij5vDtcYV",
        "colab_type": "code",
        "colab": {}
      },
      "source": [
        "errorIndices = []\n",
        "for i in range(len(testPred)):\n",
        "  if testPred[i]!=testLabels[i]:\n",
        "    errorIndices.append(i)\n"
      ],
      "execution_count": 0,
      "outputs": []
    },
    {
      "cell_type": "code",
      "metadata": {
        "id": "YrldRcRo24as",
        "colab_type": "code",
        "outputId": "c8873144-0823-496a-80d4-ac0f69a898f2",
        "colab": {
          "base_uri": "https://localhost:8080/",
          "height": 303
        }
      },
      "source": [
        "\n",
        "index = errorIndices[8]\n",
        "\n",
        "testFeat = net.getFeatures(testDataset_[index][0].unsqueeze(0).cuda())\n",
        "\n",
        "\n",
        "visualizeTestSample(support, labels, testFeat, testLabels[index], testPred[index])\n",
        "\n"
      ],
      "execution_count": 0,
      "outputs": [
        {
          "output_type": "stream",
          "text": [
            "Variance Explained : 0.6110550165176392\n",
            "Predicted Label : 0. True Label : 2\n"
          ],
          "name": "stdout"
        },
        {
          "output_type": "display_data",
          "data": {
            "image/png": "[encoded data removed]",
            "text/plain": [
              "<Figure size 432x288 with 1 Axes>"
            ]
          },
          "metadata": {
            "tags": [],
            "needs_background": "light"
          }
        }
      ]
    },
    {
      "cell_type": "code",
      "metadata": {
        "id": "8xoaAgHm4LVt",
        "colab_type": "code",
        "outputId": "6ea6146c-dbce-43e4-b30b-597c0949dbf5",
        "colab": {
          "base_uri": "https://localhost:8080/",
          "height": 282
        }
      },
      "source": [
        "plt.imshow(testDataset_[index][0].permute(1,2,0))"
      ],
      "execution_count": 0,
      "outputs": [
        {
          "output_type": "execute_result",
          "data": {
            "text/plain": [
              "<matplotlib.image.AxesImage at 0x7f11a011f4e0>"
            ]
          },
          "metadata": {
            "tags": []
          },
          "execution_count": 527
        },
        {
          "output_type": "display_data",
          "data": {
            "image/png": "[encoded data removed]",
            "text/plain": [
              "<Figure size 432x288 with 1 Axes>"
            ]
          },
          "metadata": {
            "tags": [],
            "needs_background": "light"
          }
        }
      ]
    },
    {
      "cell_type": "code",
      "metadata": {
        "id": "gaStm1mWuVJ6",
        "colab_type": "code",
        "colab": {}
      },
      "source": [
        "\n",
        "def visualizeTestSample(support, labels, testFeat, testLabel, testPred ):\n",
        "\n",
        "    uniqueClasses = sorted(pd.Series(labels).unique())\n",
        "\n",
        "    NUM_COLORS = len(uniqueClasses)\n",
        "\n",
        "    get_color = plt.get_cmap('viridis')\n",
        "\n",
        "    colorMap = {}\n",
        "    for i in range(len(uniqueClasses)):\n",
        "        colorMap[uniqueClasses[i]] = get_color(i/NUM_COLORS)\n",
        "    \n",
        "\n",
        "    support = support.cpu().numpy()\n",
        "    testFeat = testFeat.detach().cpu().numpy()\n",
        "\n",
        "    # scaler = StandardScaler()\n",
        "    # X = scaler.fit_transform(support)\n",
        "\n",
        "    pca = PCA(n_components=2)\n",
        "    pcaX = pca.fit_transform(X=support)\n",
        "    testFeatX = pca.transform(X = testFeat)\n",
        "\n",
        "    varExplained = np.sum(pca.explained_variance_ratio_[:2])\n",
        "    print(f\"Variance Explained : {varExplained}\")\n",
        "    print(f\"Predicted Label : {int(testPred)}. True Label : {testLabel}\")\n",
        "\n",
        "    colors = [colorMap[int(x)] for x in labels]\n",
        "    for i in range(len(uniqueClasses)):\n",
        "      index = np.array(labels) == int(uniqueClasses[i])\n",
        "      plt.scatter(pcaX[index,0], pcaX[index,1], color=colorMap[int(uniqueClasses[i])], label =int(uniqueClasses[i]))\n",
        "    \n",
        "    plt.plot(testFeatX[:,0], testFeatX[:,1], color='red', markeredgecolor = 'black', marker='H',markersize=10, label = 'test')\n",
        "    plt.legend()\n",
        "\n",
        "    plt.show()"
      ],
      "execution_count": 0,
      "outputs": []
    }
  ]
}